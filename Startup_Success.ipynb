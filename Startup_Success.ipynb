{
 "cells": [
  {
   "cell_type": "markdown",
   "id": "588fe038-58e1-402c-b422-358edfc123de",
   "metadata": {},
   "source": [
    "## Predicting Startup Success\n",
    "\n",
    "### Problem Statement: \n",
    "Venture funding in 2021 broke records as total investments totaled \\\\$643 billion compared to $335 billion for 2020. All this money poured into early stage and private companies by venture capitalists and private equity firms go through a process of due-diligence. This is because investing in start-ups is considered highly risky as around 90% of start-ups fail with 10% of those failing within the first year. According to Crunchbase, venture funding for the third quarter of 2022 totaled \\\\$81 billion, down by \\\\$90 billion (53% YOY) and by \\\\$40 billion (33% QOQ) reflective of current economic conditions such as high interest rates that lead to a liquidity crunch. Ultimately, this makes investors to be more prudent when they decide to choose which companies to invest in as their goal is to \"exit\" with a profit. This is only possible if the company does not fail and survives by going to IPO or being acquired. The goal of this project is to create a model using machine-learning algorithms to classify whether a start-up will be able to survive (\"still under operations or successfully acquired\") or shut-down (\"closed\") its operations."
   ]
  },
  {
   "cell_type": "markdown",
   "id": "c64a6289-4e34-4907-a854-65ea2b7daa9c",
   "metadata": {},
   "source": [
    "\n",
    "### Description of Dataset: \n",
    "The source lists out startups compiled by Crunchbase, a website for information on early state startups to Fortune 1000, and provides detailed information regarding the company such as: location, funding details, investment types, and the current status of the company (closed, still under operations, or acquired).\n",
    "The dataset has a total of 49438 data points with 39 features. \n",
    "\n",
    "## Source : https://www.kaggle.com/datasets/arindam235/startup-investments-crunchbase"
   ]
  },
  {
   "cell_type": "code",
   "execution_count": 1,
   "id": "c64d3ef7-4876-43e3-9bd7-e615238b0386",
   "metadata": {},
   "outputs": [],
   "source": [
    "import pandas as pd"
   ]
  },
  {
   "cell_type": "code",
   "execution_count": 2,
   "id": "c59bc1fc-da93-4033-97a2-a570f2dcee7a",
   "metadata": {},
   "outputs": [
    {
     "name": "stderr",
     "output_type": "stream",
     "text": [
      "C:\\Users\\user\\AppData\\Local\\Temp\\ipykernel_32776\\3181845353.py:1: DtypeWarning: Columns (11) have mixed types. Specify dtype option on import or set low_memory=False.\n",
      "  startups_df = pd.read_csv(\"data/investments_VC.csv\")\n"
     ]
    }
   ],
   "source": [
    "startups_df = pd.read_csv(\"data/investments_VC.csv\")"
   ]
  },
  {
   "cell_type": "code",
   "execution_count": 3,
   "id": "a39ff063-6694-4732-bf2d-d951adbb7dd7",
   "metadata": {},
   "outputs": [
    {
     "name": "stdout",
     "output_type": "stream",
     "text": [
      "<class 'pandas.core.frame.DataFrame'>\n",
      "RangeIndex: 49438 entries, 0 to 49437\n",
      "Data columns (total 39 columns):\n",
      " #   Column                Non-Null Count  Dtype  \n",
      "---  ------                --------------  -----  \n",
      " 0   permalink             49438 non-null  object \n",
      " 1   name                  49433 non-null  object \n",
      " 2   homepage_url          45983 non-null  object \n",
      " 3   category_list         45481 non-null  object \n",
      " 4    market               45480 non-null  object \n",
      " 5    funding_total_usd    49432 non-null  object \n",
      " 6   status                48121 non-null  object \n",
      " 7   country_code          44147 non-null  object \n",
      " 8   state_code            30179 non-null  object \n",
      " 9   region                44168 non-null  object \n",
      " 10  city                  43317 non-null  object \n",
      " 11  funding_rounds        49407 non-null  object \n",
      " 12  founded_at            38554 non-null  object \n",
      " 13  founded_month         38482 non-null  object \n",
      " 14  founded_quarter       38493 non-null  object \n",
      " 15  founded_year          38513 non-null  object \n",
      " 16  first_funding_at      49438 non-null  object \n",
      " 17  last_funding_at       49438 non-null  object \n",
      " 18  seed                  49438 non-null  int64  \n",
      " 19  venture               49438 non-null  int64  \n",
      " 20  equity_crowdfunding   49438 non-null  int64  \n",
      " 21  undisclosed           49438 non-null  int64  \n",
      " 22  convertible_note      49438 non-null  int64  \n",
      " 23  debt_financing        49438 non-null  int64  \n",
      " 24  angel                 49438 non-null  int64  \n",
      " 25  grant                 49438 non-null  int64  \n",
      " 26  private_equity        49438 non-null  int64  \n",
      " 27  post_ipo_equity       49438 non-null  int64  \n",
      " 28  post_ipo_debt         49438 non-null  int64  \n",
      " 29  secondary_market      49438 non-null  int64  \n",
      " 30  product_crowdfunding  49438 non-null  int64  \n",
      " 31  round_A               49438 non-null  int64  \n",
      " 32  round_B               49438 non-null  int64  \n",
      " 33  round_C               49438 non-null  int64  \n",
      " 34  round_D               49438 non-null  int64  \n",
      " 35  round_E               49438 non-null  int64  \n",
      " 36  round_F               49438 non-null  int64  \n",
      " 37  round_G               49420 non-null  float64\n",
      " 38  round_H               49300 non-null  float64\n",
      "dtypes: float64(2), int64(19), object(18)\n",
      "memory usage: 14.7+ MB\n"
     ]
    },
    {
     "data": {
      "text/html": [
       "<div>\n",
       "<style scoped>\n",
       "    .dataframe tbody tr th:only-of-type {\n",
       "        vertical-align: middle;\n",
       "    }\n",
       "\n",
       "    .dataframe tbody tr th {\n",
       "        vertical-align: top;\n",
       "    }\n",
       "\n",
       "    .dataframe thead th {\n",
       "        text-align: right;\n",
       "    }\n",
       "</style>\n",
       "<table border=\"1\" class=\"dataframe\">\n",
       "  <thead>\n",
       "    <tr style=\"text-align: right;\">\n",
       "      <th></th>\n",
       "      <th>permalink</th>\n",
       "      <th>name</th>\n",
       "      <th>homepage_url</th>\n",
       "      <th>category_list</th>\n",
       "      <th>market</th>\n",
       "      <th>funding_total_usd</th>\n",
       "      <th>status</th>\n",
       "      <th>country_code</th>\n",
       "      <th>state_code</th>\n",
       "      <th>region</th>\n",
       "      <th>...</th>\n",
       "      <th>secondary_market</th>\n",
       "      <th>product_crowdfunding</th>\n",
       "      <th>round_A</th>\n",
       "      <th>round_B</th>\n",
       "      <th>round_C</th>\n",
       "      <th>round_D</th>\n",
       "      <th>round_E</th>\n",
       "      <th>round_F</th>\n",
       "      <th>round_G</th>\n",
       "      <th>round_H</th>\n",
       "    </tr>\n",
       "  </thead>\n",
       "  <tbody>\n",
       "    <tr>\n",
       "      <th>0</th>\n",
       "      <td>/organization/waywire</td>\n",
       "      <td>#waywire</td>\n",
       "      <td>http://www.waywire.com</td>\n",
       "      <td>|Entertainment|Politics|Social Media|News|</td>\n",
       "      <td>News</td>\n",
       "      <td>17,50,000</td>\n",
       "      <td>acquired</td>\n",
       "      <td>USA</td>\n",
       "      <td>NY</td>\n",
       "      <td>New York City</td>\n",
       "      <td>...</td>\n",
       "      <td>0</td>\n",
       "      <td>0</td>\n",
       "      <td>0</td>\n",
       "      <td>0</td>\n",
       "      <td>0</td>\n",
       "      <td>0</td>\n",
       "      <td>0</td>\n",
       "      <td>0</td>\n",
       "      <td>0.0</td>\n",
       "      <td>0.0</td>\n",
       "    </tr>\n",
       "    <tr>\n",
       "      <th>1</th>\n",
       "      <td>/organization/tv-communications</td>\n",
       "      <td>&amp;TV Communications</td>\n",
       "      <td>http://enjoyandtv.com</td>\n",
       "      <td>|Games|</td>\n",
       "      <td>Games</td>\n",
       "      <td>40,00,000</td>\n",
       "      <td>operating</td>\n",
       "      <td>USA</td>\n",
       "      <td>CA</td>\n",
       "      <td>Los Angeles</td>\n",
       "      <td>...</td>\n",
       "      <td>0</td>\n",
       "      <td>0</td>\n",
       "      <td>0</td>\n",
       "      <td>0</td>\n",
       "      <td>0</td>\n",
       "      <td>0</td>\n",
       "      <td>0</td>\n",
       "      <td>0</td>\n",
       "      <td>0.0</td>\n",
       "      <td>0.0</td>\n",
       "    </tr>\n",
       "    <tr>\n",
       "      <th>2</th>\n",
       "      <td>/organization/rock-your-paper</td>\n",
       "      <td>'Rock' Your Paper</td>\n",
       "      <td>http://www.rockyourpaper.org</td>\n",
       "      <td>|Publishing|Education|</td>\n",
       "      <td>Publishing</td>\n",
       "      <td>40,000</td>\n",
       "      <td>operating</td>\n",
       "      <td>EST</td>\n",
       "      <td>NaN</td>\n",
       "      <td>Tallinn</td>\n",
       "      <td>...</td>\n",
       "      <td>0</td>\n",
       "      <td>0</td>\n",
       "      <td>0</td>\n",
       "      <td>0</td>\n",
       "      <td>0</td>\n",
       "      <td>0</td>\n",
       "      <td>0</td>\n",
       "      <td>0</td>\n",
       "      <td>0.0</td>\n",
       "      <td>0.0</td>\n",
       "    </tr>\n",
       "    <tr>\n",
       "      <th>3</th>\n",
       "      <td>/organization/in-touch-network</td>\n",
       "      <td>(In)Touch Network</td>\n",
       "      <td>http://www.InTouchNetwork.com</td>\n",
       "      <td>|Electronics|Guides|Coffee|Restaurants|Music|i...</td>\n",
       "      <td>Electronics</td>\n",
       "      <td>15,00,000</td>\n",
       "      <td>operating</td>\n",
       "      <td>GBR</td>\n",
       "      <td>NaN</td>\n",
       "      <td>London</td>\n",
       "      <td>...</td>\n",
       "      <td>0</td>\n",
       "      <td>0</td>\n",
       "      <td>0</td>\n",
       "      <td>0</td>\n",
       "      <td>0</td>\n",
       "      <td>0</td>\n",
       "      <td>0</td>\n",
       "      <td>0</td>\n",
       "      <td>0.0</td>\n",
       "      <td>0.0</td>\n",
       "    </tr>\n",
       "    <tr>\n",
       "      <th>4</th>\n",
       "      <td>/organization/r-ranch-and-mine</td>\n",
       "      <td>-R- Ranch and Mine</td>\n",
       "      <td>NaN</td>\n",
       "      <td>|Tourism|Entertainment|Games|</td>\n",
       "      <td>Tourism</td>\n",
       "      <td>60,000</td>\n",
       "      <td>operating</td>\n",
       "      <td>USA</td>\n",
       "      <td>TX</td>\n",
       "      <td>Dallas</td>\n",
       "      <td>...</td>\n",
       "      <td>0</td>\n",
       "      <td>0</td>\n",
       "      <td>0</td>\n",
       "      <td>0</td>\n",
       "      <td>0</td>\n",
       "      <td>0</td>\n",
       "      <td>0</td>\n",
       "      <td>0</td>\n",
       "      <td>0.0</td>\n",
       "      <td>0.0</td>\n",
       "    </tr>\n",
       "  </tbody>\n",
       "</table>\n",
       "<p>5 rows × 39 columns</p>\n",
       "</div>"
      ],
      "text/plain": [
       "                         permalink                name  \\\n",
       "0            /organization/waywire            #waywire   \n",
       "1  /organization/tv-communications  &TV Communications   \n",
       "2    /organization/rock-your-paper   'Rock' Your Paper   \n",
       "3   /organization/in-touch-network   (In)Touch Network   \n",
       "4   /organization/r-ranch-and-mine  -R- Ranch and Mine   \n",
       "\n",
       "                    homepage_url  \\\n",
       "0         http://www.waywire.com   \n",
       "1          http://enjoyandtv.com   \n",
       "2   http://www.rockyourpaper.org   \n",
       "3  http://www.InTouchNetwork.com   \n",
       "4                            NaN   \n",
       "\n",
       "                                       category_list        market   \\\n",
       "0         |Entertainment|Politics|Social Media|News|          News    \n",
       "1                                            |Games|         Games    \n",
       "2                             |Publishing|Education|    Publishing    \n",
       "3  |Electronics|Guides|Coffee|Restaurants|Music|i...   Electronics    \n",
       "4                      |Tourism|Entertainment|Games|       Tourism    \n",
       "\n",
       "   funding_total_usd      status country_code state_code         region  ...  \\\n",
       "0          17,50,000    acquired          USA         NY  New York City  ...   \n",
       "1          40,00,000   operating          USA         CA    Los Angeles  ...   \n",
       "2              40,000  operating          EST        NaN        Tallinn  ...   \n",
       "3          15,00,000   operating          GBR        NaN         London  ...   \n",
       "4              60,000  operating          USA         TX         Dallas  ...   \n",
       "\n",
       "  secondary_market product_crowdfunding round_A round_B round_C round_D  \\\n",
       "0                0                    0       0       0       0       0   \n",
       "1                0                    0       0       0       0       0   \n",
       "2                0                    0       0       0       0       0   \n",
       "3                0                    0       0       0       0       0   \n",
       "4                0                    0       0       0       0       0   \n",
       "\n",
       "  round_E round_F  round_G  round_H  \n",
       "0       0       0      0.0      0.0  \n",
       "1       0       0      0.0      0.0  \n",
       "2       0       0      0.0      0.0  \n",
       "3       0       0      0.0      0.0  \n",
       "4       0       0      0.0      0.0  \n",
       "\n",
       "[5 rows x 39 columns]"
      ]
     },
     "execution_count": 3,
     "metadata": {},
     "output_type": "execute_result"
    }
   ],
   "source": [
    "startups_df.info()\n",
    "startups_df.head(5)"
   ]
  },
  {
   "cell_type": "code",
   "execution_count": 4,
   "id": "2e3d34d4-8c50-47e8-b6ac-7511ac60c068",
   "metadata": {},
   "outputs": [
    {
     "name": "stdout",
     "output_type": "stream",
     "text": [
      "permalink\n",
      "name\n",
      "homepage_url\n",
      "category_list\n",
      " market \n",
      " funding_total_usd \n",
      "status\n",
      "country_code\n",
      "state_code\n",
      "region\n",
      "city\n",
      "funding_rounds\n",
      "founded_at\n",
      "founded_month\n",
      "founded_quarter\n",
      "founded_year\n",
      "first_funding_at\n",
      "last_funding_at\n",
      "seed\n",
      "venture\n",
      "equity_crowdfunding\n",
      "undisclosed\n",
      "convertible_note\n",
      "debt_financing\n",
      "angel\n",
      "grant\n",
      "private_equity\n",
      "post_ipo_equity\n",
      "post_ipo_debt\n",
      "secondary_market\n",
      "product_crowdfunding\n",
      "round_A\n",
      "round_B\n",
      "round_C\n",
      "round_D\n",
      "round_E\n",
      "round_F\n",
      "round_G\n",
      "round_H\n"
     ]
    }
   ],
   "source": [
    "for col in startups_df.columns:\n",
    "    print(col)"
   ]
  },
  {
   "cell_type": "markdown",
   "id": "59b87d0f-dca2-4f5e-a01c-e9bcbb57e187",
   "metadata": {},
   "source": [
    "For this assignment, your goal should be to get started cleaning and exploring your dataset.  Submit a zipped file with your dataset and a jupyter notebook containing your initial exploration and cleaning.  At a high level your goals are:\n",
    "\n",
    "Clean and organize your dataset\n",
    "Determine how to handle missing values\n",
    "Visualize and explore features distributions and within group distributions\n",
    "Visualize relationships between features\n",
    "Identify important findings and discuss these in a markdown cell."
   ]
  },
  {
   "cell_type": "code",
   "execution_count": 5,
   "id": "d8580db6-173d-47e4-8500-d3d7a4392a2f",
   "metadata": {},
   "outputs": [
    {
     "name": "stdout",
     "output_type": "stream",
     "text": [
      "<class 'pandas.core.frame.DataFrame'>\n",
      "RangeIndex: 49438 entries, 0 to 49437\n",
      "Data columns (total 39 columns):\n",
      " #   Column                Non-Null Count  Dtype  \n",
      "---  ------                --------------  -----  \n",
      " 0   permalink             49438 non-null  object \n",
      " 1   name                  49433 non-null  object \n",
      " 2   homepage_url          45983 non-null  object \n",
      " 3   category_list         45481 non-null  object \n",
      " 4   market                45480 non-null  object \n",
      " 5   total_funding         49432 non-null  object \n",
      " 6   status                48121 non-null  object \n",
      " 7   country_code          44147 non-null  object \n",
      " 8   state_code            30179 non-null  object \n",
      " 9   region                44168 non-null  object \n",
      " 10  city                  43317 non-null  object \n",
      " 11  funding_rounds        49407 non-null  object \n",
      " 12  founded_at            38554 non-null  object \n",
      " 13  founded_month         38482 non-null  object \n",
      " 14  founded_quarter       38493 non-null  object \n",
      " 15  founded_year          38513 non-null  object \n",
      " 16  first_funding_at      49438 non-null  object \n",
      " 17  last_funding_at       49438 non-null  object \n",
      " 18  seed                  49438 non-null  int64  \n",
      " 19  venture               49438 non-null  int64  \n",
      " 20  equity_crowdfunding   49438 non-null  int64  \n",
      " 21  undisclosed           49438 non-null  int64  \n",
      " 22  convertible_note      49438 non-null  int64  \n",
      " 23  debt_financing        49438 non-null  int64  \n",
      " 24  angel                 49438 non-null  int64  \n",
      " 25  grant                 49438 non-null  int64  \n",
      " 26  private_equity        49438 non-null  int64  \n",
      " 27  post_ipo_equity       49438 non-null  int64  \n",
      " 28  post_ipo_debt         49438 non-null  int64  \n",
      " 29  secondary_market      49438 non-null  int64  \n",
      " 30  product_crowdfunding  49438 non-null  int64  \n",
      " 31  round_A               49438 non-null  int64  \n",
      " 32  round_B               49438 non-null  int64  \n",
      " 33  round_C               49438 non-null  int64  \n",
      " 34  round_D               49438 non-null  int64  \n",
      " 35  round_E               49438 non-null  int64  \n",
      " 36  round_F               49438 non-null  int64  \n",
      " 37  round_G               49420 non-null  float64\n",
      " 38  round_H               49300 non-null  float64\n",
      "dtypes: float64(2), int64(19), object(18)\n",
      "memory usage: 14.7+ MB\n"
     ]
    }
   ],
   "source": [
    "#Clean Dataset \n",
    "#We first rename column names that have empty spaces\n",
    "startups_df=startups_df.rename(columns = {' funding_total_usd ':'total_funding'})\n",
    "startups_df=startups_df.rename(columns = {' market ':'market'})\n",
    "startups_df.info()"
   ]
  },
  {
   "cell_type": "code",
   "execution_count": 6,
   "id": "e9ceb9f2-65f1-4061-8f2e-e1c6292657f7",
   "metadata": {},
   "outputs": [],
   "source": [
    "#drop unnecessary columns such as permalink, homepage_url, category_list, state_code, city, founded_at, founded_month, founded_quarter\n",
    "startups_df = startups_df.drop(['state_code','permalink','homepage_url','category_list','city','founded_at','founded_month','founded_quarter','undisclosed','region','first_funding_at','last_funding_at'], axis=1)"
   ]
  },
  {
   "cell_type": "code",
   "execution_count": 7,
   "id": "c847ad78-b271-40f9-a92d-43081c290f97",
   "metadata": {},
   "outputs": [],
   "source": [
    "#drop empty NAN values and duplicates\n",
    "startups_df = startups_df.dropna()\n",
    "startups_df = startups_df.drop_duplicates()\n",
    "\n",
    "\n"
   ]
  },
  {
   "cell_type": "code",
   "execution_count": 8,
   "id": "b518691d-5a3f-4aad-9a2e-53c3b34a9614",
   "metadata": {},
   "outputs": [],
   "source": [
    "# We have to convert total funding to a integer as it is currently a non-integer datatype\n",
    "startups_df['total_funding']\n",
    "startups_df['total_funding'] = startups_df['total_funding'].str.strip().str.replace(\",\" , \"\")\n",
    "startups_df['total_funding'] = startups_df['total_funding'].replace('-' , 0)\n",
    "startups_df['total_funding'] = startups_df['total_funding'].astype('float')\n"
   ]
  },
  {
   "cell_type": "code",
   "execution_count": 9,
   "id": "4844f842-10ae-454d-9128-ad585e540713",
   "metadata": {},
   "outputs": [],
   "source": [
    "# We also change year into int data type \n",
    "startups_df['founded_year'] = startups_df['founded_year'].astype('int')"
   ]
  },
  {
   "cell_type": "code",
   "execution_count": 10,
   "id": "04864a96-2d2c-41ae-b520-a9ae104f9617",
   "metadata": {},
   "outputs": [
    {
     "name": "stdout",
     "output_type": "stream",
     "text": [
      "<class 'pandas.core.frame.DataFrame'>\n",
      "Int64Index: 33060 entries, 0 to 49437\n",
      "Data columns (total 27 columns):\n",
      " #   Column                Non-Null Count  Dtype  \n",
      "---  ------                --------------  -----  \n",
      " 0   name                  33060 non-null  object \n",
      " 1   market                33060 non-null  object \n",
      " 2   total_funding         33060 non-null  float64\n",
      " 3   status                33060 non-null  object \n",
      " 4   country_code          33060 non-null  object \n",
      " 5   funding_rounds        33060 non-null  object \n",
      " 6   founded_year          33060 non-null  int32  \n",
      " 7   seed                  33060 non-null  int64  \n",
      " 8   venture               33060 non-null  int64  \n",
      " 9   equity_crowdfunding   33060 non-null  int64  \n",
      " 10  convertible_note      33060 non-null  int64  \n",
      " 11  debt_financing        33060 non-null  int64  \n",
      " 12  angel                 33060 non-null  int64  \n",
      " 13  grant                 33060 non-null  int64  \n",
      " 14  private_equity        33060 non-null  int64  \n",
      " 15  post_ipo_equity       33060 non-null  int64  \n",
      " 16  post_ipo_debt         33060 non-null  int64  \n",
      " 17  secondary_market      33060 non-null  int64  \n",
      " 18  product_crowdfunding  33060 non-null  int64  \n",
      " 19  round_A               33060 non-null  int64  \n",
      " 20  round_B               33060 non-null  int64  \n",
      " 21  round_C               33060 non-null  int64  \n",
      " 22  round_D               33060 non-null  int64  \n",
      " 23  round_E               33060 non-null  int64  \n",
      " 24  round_F               33060 non-null  int64  \n",
      " 25  round_G               33060 non-null  float64\n",
      " 26  round_H               33060 non-null  float64\n",
      "dtypes: float64(3), int32(1), int64(18), object(5)\n",
      "memory usage: 6.9+ MB\n"
     ]
    }
   ],
   "source": [
    "startups_df.info()"
   ]
  },
  {
   "cell_type": "markdown",
   "id": "ba388470-9d4c-4de5-b121-7e7d38e3768e",
   "metadata": {},
   "source": [
    "We know have 33060 observations after cleaning the data that we can use for observations "
   ]
  },
  {
   "cell_type": "code",
   "execution_count": 11,
   "id": "fce5d228-ad8b-4ca6-be03-86c84f45b9dd",
   "metadata": {},
   "outputs": [
    {
     "data": {
      "text/html": [
       "<div>\n",
       "<style scoped>\n",
       "    .dataframe tbody tr th:only-of-type {\n",
       "        vertical-align: middle;\n",
       "    }\n",
       "\n",
       "    .dataframe tbody tr th {\n",
       "        vertical-align: top;\n",
       "    }\n",
       "\n",
       "    .dataframe thead th {\n",
       "        text-align: right;\n",
       "    }\n",
       "</style>\n",
       "<table border=\"1\" class=\"dataframe\">\n",
       "  <thead>\n",
       "    <tr style=\"text-align: right;\">\n",
       "      <th></th>\n",
       "      <th>total_funding</th>\n",
       "      <th>founded_year</th>\n",
       "      <th>seed</th>\n",
       "      <th>venture</th>\n",
       "      <th>equity_crowdfunding</th>\n",
       "      <th>convertible_note</th>\n",
       "      <th>debt_financing</th>\n",
       "      <th>angel</th>\n",
       "      <th>grant</th>\n",
       "      <th>private_equity</th>\n",
       "      <th>...</th>\n",
       "      <th>secondary_market</th>\n",
       "      <th>product_crowdfunding</th>\n",
       "      <th>round_A</th>\n",
       "      <th>round_B</th>\n",
       "      <th>round_C</th>\n",
       "      <th>round_D</th>\n",
       "      <th>round_E</th>\n",
       "      <th>round_F</th>\n",
       "      <th>round_G</th>\n",
       "      <th>round_H</th>\n",
       "    </tr>\n",
       "  </thead>\n",
       "  <tbody>\n",
       "    <tr>\n",
       "      <th>count</th>\n",
       "      <td>3.306000e+04</td>\n",
       "      <td>33060.000000</td>\n",
       "      <td>3.306000e+04</td>\n",
       "      <td>3.306000e+04</td>\n",
       "      <td>3.306000e+04</td>\n",
       "      <td>3.306000e+04</td>\n",
       "      <td>3.306000e+04</td>\n",
       "      <td>3.306000e+04</td>\n",
       "      <td>3.306000e+04</td>\n",
       "      <td>3.306000e+04</td>\n",
       "      <td>...</td>\n",
       "      <td>3.306000e+04</td>\n",
       "      <td>3.306000e+04</td>\n",
       "      <td>3.306000e+04</td>\n",
       "      <td>3.306000e+04</td>\n",
       "      <td>3.306000e+04</td>\n",
       "      <td>3.306000e+04</td>\n",
       "      <td>3.306000e+04</td>\n",
       "      <td>3.306000e+04</td>\n",
       "      <td>3.306000e+04</td>\n",
       "      <td>3.306000e+04</td>\n",
       "    </tr>\n",
       "    <tr>\n",
       "      <th>mean</th>\n",
       "      <td>1.510079e+07</td>\n",
       "      <td>2007.250151</td>\n",
       "      <td>2.591721e+05</td>\n",
       "      <td>9.050272e+06</td>\n",
       "      <td>6.480949e+03</td>\n",
       "      <td>2.693761e+04</td>\n",
       "      <td>2.201973e+06</td>\n",
       "      <td>7.399999e+04</td>\n",
       "      <td>1.457894e+05</td>\n",
       "      <td>2.349539e+06</td>\n",
       "      <td>...</td>\n",
       "      <td>3.437302e+04</td>\n",
       "      <td>8.639418e+03</td>\n",
       "      <td>1.438637e+06</td>\n",
       "      <td>1.864055e+06</td>\n",
       "      <td>1.576511e+06</td>\n",
       "      <td>1.006370e+06</td>\n",
       "      <td>4.725051e+05</td>\n",
       "      <td>2.402200e+05</td>\n",
       "      <td>8.390249e+04</td>\n",
       "      <td>2.128252e+04</td>\n",
       "    </tr>\n",
       "    <tr>\n",
       "      <th>std</th>\n",
       "      <td>1.799673e+08</td>\n",
       "      <td>7.347842</td>\n",
       "      <td>9.986574e+05</td>\n",
       "      <td>3.302623e+07</td>\n",
       "      <td>1.804899e+05</td>\n",
       "      <td>1.690866e+06</td>\n",
       "      <td>1.674059e+08</td>\n",
       "      <td>5.579638e+05</td>\n",
       "      <td>4.971661e+06</td>\n",
       "      <td>3.642103e+07</td>\n",
       "      <td>...</td>\n",
       "      <td>2.851820e+06</td>\n",
       "      <td>5.140379e+05</td>\n",
       "      <td>5.555709e+06</td>\n",
       "      <td>8.554353e+06</td>\n",
       "      <td>9.307874e+06</td>\n",
       "      <td>1.175453e+07</td>\n",
       "      <td>6.454155e+06</td>\n",
       "      <td>7.630509e+06</td>\n",
       "      <td>6.409924e+06</td>\n",
       "      <td>3.322357e+06</td>\n",
       "    </tr>\n",
       "    <tr>\n",
       "      <th>min</th>\n",
       "      <td>0.000000e+00</td>\n",
       "      <td>1902.000000</td>\n",
       "      <td>0.000000e+00</td>\n",
       "      <td>0.000000e+00</td>\n",
       "      <td>0.000000e+00</td>\n",
       "      <td>0.000000e+00</td>\n",
       "      <td>0.000000e+00</td>\n",
       "      <td>0.000000e+00</td>\n",
       "      <td>0.000000e+00</td>\n",
       "      <td>0.000000e+00</td>\n",
       "      <td>...</td>\n",
       "      <td>0.000000e+00</td>\n",
       "      <td>0.000000e+00</td>\n",
       "      <td>0.000000e+00</td>\n",
       "      <td>0.000000e+00</td>\n",
       "      <td>0.000000e+00</td>\n",
       "      <td>0.000000e+00</td>\n",
       "      <td>0.000000e+00</td>\n",
       "      <td>0.000000e+00</td>\n",
       "      <td>0.000000e+00</td>\n",
       "      <td>0.000000e+00</td>\n",
       "    </tr>\n",
       "    <tr>\n",
       "      <th>25%</th>\n",
       "      <td>1.044800e+05</td>\n",
       "      <td>2005.000000</td>\n",
       "      <td>0.000000e+00</td>\n",
       "      <td>0.000000e+00</td>\n",
       "      <td>0.000000e+00</td>\n",
       "      <td>0.000000e+00</td>\n",
       "      <td>0.000000e+00</td>\n",
       "      <td>0.000000e+00</td>\n",
       "      <td>0.000000e+00</td>\n",
       "      <td>0.000000e+00</td>\n",
       "      <td>...</td>\n",
       "      <td>0.000000e+00</td>\n",
       "      <td>0.000000e+00</td>\n",
       "      <td>0.000000e+00</td>\n",
       "      <td>0.000000e+00</td>\n",
       "      <td>0.000000e+00</td>\n",
       "      <td>0.000000e+00</td>\n",
       "      <td>0.000000e+00</td>\n",
       "      <td>0.000000e+00</td>\n",
       "      <td>0.000000e+00</td>\n",
       "      <td>0.000000e+00</td>\n",
       "    </tr>\n",
       "    <tr>\n",
       "      <th>50%</th>\n",
       "      <td>1.350000e+06</td>\n",
       "      <td>2009.000000</td>\n",
       "      <td>0.000000e+00</td>\n",
       "      <td>0.000000e+00</td>\n",
       "      <td>0.000000e+00</td>\n",
       "      <td>0.000000e+00</td>\n",
       "      <td>0.000000e+00</td>\n",
       "      <td>0.000000e+00</td>\n",
       "      <td>0.000000e+00</td>\n",
       "      <td>0.000000e+00</td>\n",
       "      <td>...</td>\n",
       "      <td>0.000000e+00</td>\n",
       "      <td>0.000000e+00</td>\n",
       "      <td>0.000000e+00</td>\n",
       "      <td>0.000000e+00</td>\n",
       "      <td>0.000000e+00</td>\n",
       "      <td>0.000000e+00</td>\n",
       "      <td>0.000000e+00</td>\n",
       "      <td>0.000000e+00</td>\n",
       "      <td>0.000000e+00</td>\n",
       "      <td>0.000000e+00</td>\n",
       "    </tr>\n",
       "    <tr>\n",
       "      <th>75%</th>\n",
       "      <td>8.500000e+06</td>\n",
       "      <td>2012.000000</td>\n",
       "      <td>5.000000e+04</td>\n",
       "      <td>6.192304e+06</td>\n",
       "      <td>0.000000e+00</td>\n",
       "      <td>0.000000e+00</td>\n",
       "      <td>0.000000e+00</td>\n",
       "      <td>0.000000e+00</td>\n",
       "      <td>0.000000e+00</td>\n",
       "      <td>0.000000e+00</td>\n",
       "      <td>...</td>\n",
       "      <td>0.000000e+00</td>\n",
       "      <td>0.000000e+00</td>\n",
       "      <td>0.000000e+00</td>\n",
       "      <td>0.000000e+00</td>\n",
       "      <td>0.000000e+00</td>\n",
       "      <td>0.000000e+00</td>\n",
       "      <td>0.000000e+00</td>\n",
       "      <td>0.000000e+00</td>\n",
       "      <td>0.000000e+00</td>\n",
       "      <td>0.000000e+00</td>\n",
       "    </tr>\n",
       "    <tr>\n",
       "      <th>max</th>\n",
       "      <td>3.007950e+10</td>\n",
       "      <td>2014.000000</td>\n",
       "      <td>1.000000e+08</td>\n",
       "      <td>2.351000e+09</td>\n",
       "      <td>1.700000e+07</td>\n",
       "      <td>3.000000e+08</td>\n",
       "      <td>3.007950e+10</td>\n",
       "      <td>3.025439e+07</td>\n",
       "      <td>4.774754e+08</td>\n",
       "      <td>3.500000e+09</td>\n",
       "      <td>...</td>\n",
       "      <td>4.000000e+08</td>\n",
       "      <td>7.200000e+07</td>\n",
       "      <td>2.250000e+08</td>\n",
       "      <td>5.420000e+08</td>\n",
       "      <td>4.900000e+08</td>\n",
       "      <td>1.200000e+09</td>\n",
       "      <td>4.000000e+08</td>\n",
       "      <td>1.060000e+09</td>\n",
       "      <td>1.000000e+09</td>\n",
       "      <td>6.000000e+08</td>\n",
       "    </tr>\n",
       "  </tbody>\n",
       "</table>\n",
       "<p>8 rows × 22 columns</p>\n",
       "</div>"
      ],
      "text/plain": [
       "       total_funding  founded_year          seed       venture  \\\n",
       "count   3.306000e+04  33060.000000  3.306000e+04  3.306000e+04   \n",
       "mean    1.510079e+07   2007.250151  2.591721e+05  9.050272e+06   \n",
       "std     1.799673e+08      7.347842  9.986574e+05  3.302623e+07   \n",
       "min     0.000000e+00   1902.000000  0.000000e+00  0.000000e+00   \n",
       "25%     1.044800e+05   2005.000000  0.000000e+00  0.000000e+00   \n",
       "50%     1.350000e+06   2009.000000  0.000000e+00  0.000000e+00   \n",
       "75%     8.500000e+06   2012.000000  5.000000e+04  6.192304e+06   \n",
       "max     3.007950e+10   2014.000000  1.000000e+08  2.351000e+09   \n",
       "\n",
       "       equity_crowdfunding  convertible_note  debt_financing         angel  \\\n",
       "count         3.306000e+04      3.306000e+04    3.306000e+04  3.306000e+04   \n",
       "mean          6.480949e+03      2.693761e+04    2.201973e+06  7.399999e+04   \n",
       "std           1.804899e+05      1.690866e+06    1.674059e+08  5.579638e+05   \n",
       "min           0.000000e+00      0.000000e+00    0.000000e+00  0.000000e+00   \n",
       "25%           0.000000e+00      0.000000e+00    0.000000e+00  0.000000e+00   \n",
       "50%           0.000000e+00      0.000000e+00    0.000000e+00  0.000000e+00   \n",
       "75%           0.000000e+00      0.000000e+00    0.000000e+00  0.000000e+00   \n",
       "max           1.700000e+07      3.000000e+08    3.007950e+10  3.025439e+07   \n",
       "\n",
       "              grant  private_equity  ...  secondary_market  \\\n",
       "count  3.306000e+04    3.306000e+04  ...      3.306000e+04   \n",
       "mean   1.457894e+05    2.349539e+06  ...      3.437302e+04   \n",
       "std    4.971661e+06    3.642103e+07  ...      2.851820e+06   \n",
       "min    0.000000e+00    0.000000e+00  ...      0.000000e+00   \n",
       "25%    0.000000e+00    0.000000e+00  ...      0.000000e+00   \n",
       "50%    0.000000e+00    0.000000e+00  ...      0.000000e+00   \n",
       "75%    0.000000e+00    0.000000e+00  ...      0.000000e+00   \n",
       "max    4.774754e+08    3.500000e+09  ...      4.000000e+08   \n",
       "\n",
       "       product_crowdfunding       round_A       round_B       round_C  \\\n",
       "count          3.306000e+04  3.306000e+04  3.306000e+04  3.306000e+04   \n",
       "mean           8.639418e+03  1.438637e+06  1.864055e+06  1.576511e+06   \n",
       "std            5.140379e+05  5.555709e+06  8.554353e+06  9.307874e+06   \n",
       "min            0.000000e+00  0.000000e+00  0.000000e+00  0.000000e+00   \n",
       "25%            0.000000e+00  0.000000e+00  0.000000e+00  0.000000e+00   \n",
       "50%            0.000000e+00  0.000000e+00  0.000000e+00  0.000000e+00   \n",
       "75%            0.000000e+00  0.000000e+00  0.000000e+00  0.000000e+00   \n",
       "max            7.200000e+07  2.250000e+08  5.420000e+08  4.900000e+08   \n",
       "\n",
       "            round_D       round_E       round_F       round_G       round_H  \n",
       "count  3.306000e+04  3.306000e+04  3.306000e+04  3.306000e+04  3.306000e+04  \n",
       "mean   1.006370e+06  4.725051e+05  2.402200e+05  8.390249e+04  2.128252e+04  \n",
       "std    1.175453e+07  6.454155e+06  7.630509e+06  6.409924e+06  3.322357e+06  \n",
       "min    0.000000e+00  0.000000e+00  0.000000e+00  0.000000e+00  0.000000e+00  \n",
       "25%    0.000000e+00  0.000000e+00  0.000000e+00  0.000000e+00  0.000000e+00  \n",
       "50%    0.000000e+00  0.000000e+00  0.000000e+00  0.000000e+00  0.000000e+00  \n",
       "75%    0.000000e+00  0.000000e+00  0.000000e+00  0.000000e+00  0.000000e+00  \n",
       "max    1.200000e+09  4.000000e+08  1.060000e+09  1.000000e+09  6.000000e+08  \n",
       "\n",
       "[8 rows x 22 columns]"
      ]
     },
     "execution_count": 11,
     "metadata": {},
     "output_type": "execute_result"
    }
   ],
   "source": [
    "startups_df.describe()"
   ]
  },
  {
   "cell_type": "code",
   "execution_count": 12,
   "id": "54e4afff-aa27-4214-9635-bef3f47460b5",
   "metadata": {},
   "outputs": [
    {
     "data": {
      "text/plain": [
       "Text(0.5, 1.0, 'Top 10 Countries where startups are founded')"
      ]
     },
     "execution_count": 12,
     "metadata": {},
     "output_type": "execute_result"
    },
    {
     "data": {
      "image/png": "[encoded data removed]",
      "text/plain": [
       "<Figure size 720x576 with 1 Axes>"
      ]
     },
     "metadata": {
      "needs_background": "light"
     },
     "output_type": "display_data"
    }
   ],
   "source": [
    "#visual analysis and exploration of data findings\n",
    "\n",
    "import numpy as np\n",
    "import matplotlib.pyplot as plt\n",
    "\n",
    "# 1. Top 10 Countries where startups are founded \n",
    "top_10 = startups_df[\"country_code\"].value_counts()[:10]\n",
    "top_10.plot(kind = 'bar', figsize=(10,8))\n",
    "plt.title(\"Top 10 Countries where startups are founded\")\n",
    "\n"
   ]
  },
  {
   "cell_type": "markdown",
   "id": "520b8686-4945-4e1a-b75b-b941ecc8e10e",
   "metadata": {},
   "source": [
    "Observation: We find that USA, England, Canada, Germany, India, China, France, Israel, Spain, Ireland are the the 10 countries where startups were founded. "
   ]
  },
  {
   "cell_type": "code",
   "execution_count": 13,
   "id": "d1a8c252-f805-4258-970b-3a41d25806ef",
   "metadata": {},
   "outputs": [
    {
     "data": {
      "text/html": [
       "<div>\n",
       "<style scoped>\n",
       "    .dataframe tbody tr th:only-of-type {\n",
       "        vertical-align: middle;\n",
       "    }\n",
       "\n",
       "    .dataframe tbody tr th {\n",
       "        vertical-align: top;\n",
       "    }\n",
       "\n",
       "    .dataframe thead th {\n",
       "        text-align: right;\n",
       "    }\n",
       "</style>\n",
       "<table border=\"1\" class=\"dataframe\">\n",
       "  <thead>\n",
       "    <tr style=\"text-align: right;\">\n",
       "      <th></th>\n",
       "      <th>country_code</th>\n",
       "      <th>total_funding</th>\n",
       "      <th>founded_year</th>\n",
       "      <th>seed</th>\n",
       "      <th>venture</th>\n",
       "      <th>equity_crowdfunding</th>\n",
       "      <th>convertible_note</th>\n",
       "      <th>debt_financing</th>\n",
       "      <th>angel</th>\n",
       "      <th>grant</th>\n",
       "      <th>...</th>\n",
       "      <th>secondary_market</th>\n",
       "      <th>product_crowdfunding</th>\n",
       "      <th>round_A</th>\n",
       "      <th>round_B</th>\n",
       "      <th>round_C</th>\n",
       "      <th>round_D</th>\n",
       "      <th>round_E</th>\n",
       "      <th>round_F</th>\n",
       "      <th>round_G</th>\n",
       "      <th>round_H</th>\n",
       "    </tr>\n",
       "  </thead>\n",
       "  <tbody>\n",
       "    <tr>\n",
       "      <th>105</th>\n",
       "      <td>USA</td>\n",
       "      <td>3.853979e+11</td>\n",
       "      <td>44561401</td>\n",
       "      <td>6026190241</td>\n",
       "      <td>232573784955</td>\n",
       "      <td>143490127</td>\n",
       "      <td>834901700</td>\n",
       "      <td>64394821226</td>\n",
       "      <td>1446111846</td>\n",
       "      <td>3238654432</td>\n",
       "      <td>...</td>\n",
       "      <td>913505052</td>\n",
       "      <td>222022346</td>\n",
       "      <td>35353198145</td>\n",
       "      <td>47780858935</td>\n",
       "      <td>40739955099</td>\n",
       "      <td>27999140278</td>\n",
       "      <td>12880339574</td>\n",
       "      <td>6133701967</td>\n",
       "      <td>1.144116e+09</td>\n",
       "      <td>50000000.0</td>\n",
       "    </tr>\n",
       "    <tr>\n",
       "      <th>20</th>\n",
       "      <td>CHN</td>\n",
       "      <td>2.310949e+10</td>\n",
       "      <td>1275572</td>\n",
       "      <td>19586346</td>\n",
       "      <td>13479334224</td>\n",
       "      <td>0</td>\n",
       "      <td>0</td>\n",
       "      <td>1351049999</td>\n",
       "      <td>174466455</td>\n",
       "      <td>327500</td>\n",
       "      <td>...</td>\n",
       "      <td>0</td>\n",
       "      <td>0</td>\n",
       "      <td>2579275861</td>\n",
       "      <td>3244066701</td>\n",
       "      <td>3577506591</td>\n",
       "      <td>1376558853</td>\n",
       "      <td>666091950</td>\n",
       "      <td>286611871</td>\n",
       "      <td>1.890000e+08</td>\n",
       "      <td>0.0</td>\n",
       "    </tr>\n",
       "    <tr>\n",
       "      <th>37</th>\n",
       "      <td>GBR</td>\n",
       "      <td>1.711129e+10</td>\n",
       "      <td>3813866</td>\n",
       "      <td>599319371</td>\n",
       "      <td>10072993250</td>\n",
       "      <td>45515518</td>\n",
       "      <td>2742252</td>\n",
       "      <td>466861178</td>\n",
       "      <td>156048057</td>\n",
       "      <td>762552400</td>\n",
       "      <td>...</td>\n",
       "      <td>0</td>\n",
       "      <td>34240697</td>\n",
       "      <td>2366915387</td>\n",
       "      <td>2058890721</td>\n",
       "      <td>1729292703</td>\n",
       "      <td>548693247</td>\n",
       "      <td>198850000</td>\n",
       "      <td>70000000</td>\n",
       "      <td>0.000000e+00</td>\n",
       "      <td>0.0</td>\n",
       "    </tr>\n",
       "    <tr>\n",
       "      <th>46</th>\n",
       "      <td>IND</td>\n",
       "      <td>1.179682e+10</td>\n",
       "      <td>1295183</td>\n",
       "      <td>83348761</td>\n",
       "      <td>7063332900</td>\n",
       "      <td>8000</td>\n",
       "      <td>4431000</td>\n",
       "      <td>2708039510</td>\n",
       "      <td>34497000</td>\n",
       "      <td>80000</td>\n",
       "      <td>...</td>\n",
       "      <td>210000</td>\n",
       "      <td>250000</td>\n",
       "      <td>477801755</td>\n",
       "      <td>873556734</td>\n",
       "      <td>566113477</td>\n",
       "      <td>735000000</td>\n",
       "      <td>545000000</td>\n",
       "      <td>433700000</td>\n",
       "      <td>1.060000e+09</td>\n",
       "      <td>600000000.0</td>\n",
       "    </tr>\n",
       "    <tr>\n",
       "      <th>17</th>\n",
       "      <td>CAN</td>\n",
       "      <td>9.990898e+09</td>\n",
       "      <td>2085178</td>\n",
       "      <td>263795049</td>\n",
       "      <td>5319282097</td>\n",
       "      <td>7290500</td>\n",
       "      <td>15598470</td>\n",
       "      <td>424902572</td>\n",
       "      <td>108233349</td>\n",
       "      <td>25910234</td>\n",
       "      <td>...</td>\n",
       "      <td>0</td>\n",
       "      <td>1395238</td>\n",
       "      <td>1134400917</td>\n",
       "      <td>1431141406</td>\n",
       "      <td>901144471</td>\n",
       "      <td>194893461</td>\n",
       "      <td>36519729</td>\n",
       "      <td>800000</td>\n",
       "      <td>1.700000e+06</td>\n",
       "      <td>0.0</td>\n",
       "    </tr>\n",
       "    <tr>\n",
       "      <th>27</th>\n",
       "      <td>DEU</td>\n",
       "      <td>6.853938e+09</td>\n",
       "      <td>1407773</td>\n",
       "      <td>156653082</td>\n",
       "      <td>4681423280</td>\n",
       "      <td>5571780</td>\n",
       "      <td>185000</td>\n",
       "      <td>95529872</td>\n",
       "      <td>26561178</td>\n",
       "      <td>3288337</td>\n",
       "      <td>...</td>\n",
       "      <td>0</td>\n",
       "      <td>4345183</td>\n",
       "      <td>777383109</td>\n",
       "      <td>793285162</td>\n",
       "      <td>609270842</td>\n",
       "      <td>628175985</td>\n",
       "      <td>247239280</td>\n",
       "      <td>102500000</td>\n",
       "      <td>3.500000e+08</td>\n",
       "      <td>0.0</td>\n",
       "    </tr>\n",
       "    <tr>\n",
       "      <th>49</th>\n",
       "      <td>ISR</td>\n",
       "      <td>5.588930e+09</td>\n",
       "      <td>1154015</td>\n",
       "      <td>172752717</td>\n",
       "      <td>4343743284</td>\n",
       "      <td>3090000</td>\n",
       "      <td>4500000</td>\n",
       "      <td>513730572</td>\n",
       "      <td>45990000</td>\n",
       "      <td>34125000</td>\n",
       "      <td>...</td>\n",
       "      <td>12500000</td>\n",
       "      <td>2100000</td>\n",
       "      <td>702126898</td>\n",
       "      <td>1101741000</td>\n",
       "      <td>716750000</td>\n",
       "      <td>455910149</td>\n",
       "      <td>250010840</td>\n",
       "      <td>169095270</td>\n",
       "      <td>0.000000e+00</td>\n",
       "      <td>0.0</td>\n",
       "    </tr>\n",
       "    <tr>\n",
       "      <th>36</th>\n",
       "      <td>FRA</td>\n",
       "      <td>3.799188e+09</td>\n",
       "      <td>1242051</td>\n",
       "      <td>140613145</td>\n",
       "      <td>3190876614</td>\n",
       "      <td>398097</td>\n",
       "      <td>642698</td>\n",
       "      <td>53775183</td>\n",
       "      <td>59595766</td>\n",
       "      <td>4939636</td>\n",
       "      <td>...</td>\n",
       "      <td>0</td>\n",
       "      <td>3072580</td>\n",
       "      <td>706184751</td>\n",
       "      <td>651091992</td>\n",
       "      <td>411163503</td>\n",
       "      <td>344366820</td>\n",
       "      <td>53360403</td>\n",
       "      <td>0</td>\n",
       "      <td>0.000000e+00</td>\n",
       "      <td>0.0</td>\n",
       "    </tr>\n",
       "    <tr>\n",
       "      <th>74</th>\n",
       "      <td>NLD</td>\n",
       "      <td>3.595249e+09</td>\n",
       "      <td>445819</td>\n",
       "      <td>51452607</td>\n",
       "      <td>1030923580</td>\n",
       "      <td>78614</td>\n",
       "      <td>13838976</td>\n",
       "      <td>794002028</td>\n",
       "      <td>17644759</td>\n",
       "      <td>336196</td>\n",
       "      <td>...</td>\n",
       "      <td>0</td>\n",
       "      <td>12780956</td>\n",
       "      <td>160759514</td>\n",
       "      <td>242472340</td>\n",
       "      <td>74849167</td>\n",
       "      <td>81020000</td>\n",
       "      <td>23000000</td>\n",
       "      <td>0</td>\n",
       "      <td>0.000000e+00</td>\n",
       "      <td>0.0</td>\n",
       "    </tr>\n",
       "    <tr>\n",
       "      <th>33</th>\n",
       "      <td>ESP</td>\n",
       "      <td>3.339220e+09</td>\n",
       "      <td>817642</td>\n",
       "      <td>125530990</td>\n",
       "      <td>1113561826</td>\n",
       "      <td>35000</td>\n",
       "      <td>1748461</td>\n",
       "      <td>1150265164</td>\n",
       "      <td>34067340</td>\n",
       "      <td>3030328</td>\n",
       "      <td>...</td>\n",
       "      <td>0</td>\n",
       "      <td>15388</td>\n",
       "      <td>197173788</td>\n",
       "      <td>329622079</td>\n",
       "      <td>166117186</td>\n",
       "      <td>36886205</td>\n",
       "      <td>95000000</td>\n",
       "      <td>0</td>\n",
       "      <td>0.000000e+00</td>\n",
       "      <td>0.0</td>\n",
       "    </tr>\n",
       "  </tbody>\n",
       "</table>\n",
       "<p>10 rows × 23 columns</p>\n",
       "</div>"
      ],
      "text/plain": [
       "    country_code  total_funding  founded_year        seed       venture  \\\n",
       "105          USA   3.853979e+11      44561401  6026190241  232573784955   \n",
       "20           CHN   2.310949e+10       1275572    19586346   13479334224   \n",
       "37           GBR   1.711129e+10       3813866   599319371   10072993250   \n",
       "46           IND   1.179682e+10       1295183    83348761    7063332900   \n",
       "17           CAN   9.990898e+09       2085178   263795049    5319282097   \n",
       "27           DEU   6.853938e+09       1407773   156653082    4681423280   \n",
       "49           ISR   5.588930e+09       1154015   172752717    4343743284   \n",
       "36           FRA   3.799188e+09       1242051   140613145    3190876614   \n",
       "74           NLD   3.595249e+09        445819    51452607    1030923580   \n",
       "33           ESP   3.339220e+09        817642   125530990    1113561826   \n",
       "\n",
       "     equity_crowdfunding  convertible_note  debt_financing       angel  \\\n",
       "105            143490127         834901700     64394821226  1446111846   \n",
       "20                     0                 0      1351049999   174466455   \n",
       "37              45515518           2742252       466861178   156048057   \n",
       "46                  8000           4431000      2708039510    34497000   \n",
       "17               7290500          15598470       424902572   108233349   \n",
       "27               5571780            185000        95529872    26561178   \n",
       "49               3090000           4500000       513730572    45990000   \n",
       "36                398097            642698        53775183    59595766   \n",
       "74                 78614          13838976       794002028    17644759   \n",
       "33                 35000           1748461      1150265164    34067340   \n",
       "\n",
       "          grant  ...  secondary_market  product_crowdfunding      round_A  \\\n",
       "105  3238654432  ...         913505052             222022346  35353198145   \n",
       "20       327500  ...                 0                     0   2579275861   \n",
       "37    762552400  ...                 0              34240697   2366915387   \n",
       "46        80000  ...            210000                250000    477801755   \n",
       "17     25910234  ...                 0               1395238   1134400917   \n",
       "27      3288337  ...                 0               4345183    777383109   \n",
       "49     34125000  ...          12500000               2100000    702126898   \n",
       "36      4939636  ...                 0               3072580    706184751   \n",
       "74       336196  ...                 0              12780956    160759514   \n",
       "33      3030328  ...                 0                 15388    197173788   \n",
       "\n",
       "         round_B      round_C      round_D      round_E     round_F  \\\n",
       "105  47780858935  40739955099  27999140278  12880339574  6133701967   \n",
       "20    3244066701   3577506591   1376558853    666091950   286611871   \n",
       "37    2058890721   1729292703    548693247    198850000    70000000   \n",
       "46     873556734    566113477    735000000    545000000   433700000   \n",
       "17    1431141406    901144471    194893461     36519729      800000   \n",
       "27     793285162    609270842    628175985    247239280   102500000   \n",
       "49    1101741000    716750000    455910149    250010840   169095270   \n",
       "36     651091992    411163503    344366820     53360403           0   \n",
       "74     242472340     74849167     81020000     23000000           0   \n",
       "33     329622079    166117186     36886205     95000000           0   \n",
       "\n",
       "          round_G      round_H  \n",
       "105  1.144116e+09   50000000.0  \n",
       "20   1.890000e+08          0.0  \n",
       "37   0.000000e+00          0.0  \n",
       "46   1.060000e+09  600000000.0  \n",
       "17   1.700000e+06          0.0  \n",
       "27   3.500000e+08          0.0  \n",
       "49   0.000000e+00          0.0  \n",
       "36   0.000000e+00          0.0  \n",
       "74   0.000000e+00          0.0  \n",
       "33   0.000000e+00          0.0  \n",
       "\n",
       "[10 rows x 23 columns]"
      ]
     },
     "execution_count": 13,
     "metadata": {},
     "output_type": "execute_result"
    }
   ],
   "source": [
    "# 2. Countries with most total funding\n",
    "top_country_total_funding = startups_df.groupby([\"country_code\"], as_index = False).sum().sort_values(\"total_funding\", ascending = False)\n",
    "top_country_total_funding = top_country_total_funding.nlargest(10,'total_funding')\n",
    "top_country_total_funding\n"
   ]
  },
  {
   "cell_type": "markdown",
   "id": "26cb0cd6-6666-42d0-9a15-fd2e6ddd1ec3",
   "metadata": {},
   "source": [
    "Observation: We see that in terms of countries that raised most funding for startups are USA, China, England, India, Canada.\n",
    "This order is different from countries that had the most startups as China is one example where it had more funding but had a fewer number of startups than England."
   ]
  },
  {
   "cell_type": "code",
   "execution_count": 14,
   "id": "9107d86c-076d-471b-b2c6-b61ec159710e",
   "metadata": {},
   "outputs": [
    {
     "data": {
      "text/plain": [
       "array([[<AxesSubplot:title={'center':'founded_year'}>]], dtype=object)"
      ]
     },
     "execution_count": 14,
     "metadata": {},
     "output_type": "execute_result"
    },
    {
     "data": {
      "image/png": "[encoded data removed]",
      "text/plain": [
       "<Figure size 432x288 with 1 Axes>"
      ]
     },
     "metadata": {
      "needs_background": "light"
     },
     "output_type": "display_data"
    }
   ],
   "source": [
    "# 3. Distriubtion of the years when they were founded\n",
    "startups_df.hist(column='founded_year', bins = 20)"
   ]
  },
  {
   "cell_type": "markdown",
   "id": "0681905d-6b89-4975-a4f6-89f6075bb41b",
   "metadata": {},
   "source": [
    "Observation: We see that most of the companies are founded after 2000 where there was a boom in early stage companies with the data points skewed to the left. \n"
   ]
  },
  {
   "cell_type": "code",
   "execution_count": 15,
   "id": "8a0ab768-0720-4f52-a36d-33f8014ccc5a",
   "metadata": {},
   "outputs": [
    {
     "data": {
      "text/plain": [
       "2012    4320\n",
       "2011    4199\n",
       "2010    3260\n",
       "2013    3171\n",
       "2009    2612\n",
       "2007    2110\n",
       "2008    2099\n",
       "2006    1654\n",
       "2005    1294\n",
       "2004    1058\n",
       "Name: founded_year, dtype: int64"
      ]
     },
     "execution_count": 15,
     "metadata": {},
     "output_type": "execute_result"
    }
   ],
   "source": [
    "# 4. Top 10 Years where companies were founded\n",
    "top_10_year = startups_df[\"founded_year\"].value_counts()[:10]\n",
    "top_10_year"
   ]
  },
  {
   "cell_type": "markdown",
   "id": "57c2ea1d-9e6b-4c85-b9f7-750ae367ff6e",
   "metadata": {},
   "source": [
    "Finding: We see that there is an increasing trend of the number of startups toward more recent years. There was a boom in the number of startups founded after 2010. "
   ]
  },
  {
   "cell_type": "code",
   "execution_count": 16,
   "id": "b8027779-6465-4653-905d-5769271a045c",
   "metadata": {},
   "outputs": [
    {
     "data": {
      "text/plain": [
       "<AxesSubplot:ylabel='status'>"
      ]
     },
     "execution_count": 16,
     "metadata": {},
     "output_type": "execute_result"
    },
    {
     "data": {
      "image/png": "[encoded data removed]",
      "text/plain": [
       "<Figure size 432x288 with 1 Axes>"
      ]
     },
     "metadata": {},
     "output_type": "display_data"
    }
   ],
   "source": [
    "# 5. startup status\n",
    "status = startups_df[\"status\"].value_counts()\n",
    "status\n",
    "status.plot(kind='pie',autopct='%1.0f%%')"
   ]
  },
  {
   "cell_type": "markdown",
   "id": "1661781e-45eb-4e97-9dee-277f3160dd59",
   "metadata": {},
   "source": [
    "Observation : We see that around 86% of the companies in our data are still operating, 8% acquired (sold), 5% shut down its operations. "
   ]
  },
  {
   "cell_type": "code",
   "execution_count": 17,
   "id": "f31993b8-29fb-46d4-bc0b-69f3424f796f",
   "metadata": {},
   "outputs": [
    {
     "data": {
      "text/plain": [
       "Text(0, 0.5, 'Total funding USD in billions')"
      ]
     },
     "execution_count": 17,
     "metadata": {},
     "output_type": "execute_result"
    },
    {
     "data": {
      "image/png": "[encoded data removed]",
      "text/plain": [
       "<Figure size 432x288 with 1 Axes>"
      ]
     },
     "metadata": {
      "needs_background": "light"
     },
     "output_type": "display_data"
    }
   ],
   "source": [
    "# 6. We observe the top 10 sector with most funding \n",
    "sector_total_funding = startups_df.groupby([\"market\"], as_index = False).sum().sort_values(\"total_funding\", ascending = False)\n",
    "sector_total_funding = sector_total_funding[:10]\n",
    "sector_total_funding['total_funding'] = sector_total_funding['total_funding']/1000000000\n",
    "sector_total_funding\n",
    "sector_total_funding.plot.bar(x = \"market\", y=\"total_funding\")\n",
    "plt.title(\"Top 10 sectors with most funding\")\n",
    "plt.ylabel(\"Total funding USD in billions\")\n"
   ]
  },
  {
   "cell_type": "markdown",
   "id": "c7aa3107-5baa-41c8-adfd-927c1d3fa393",
   "metadata": {},
   "source": [
    "Observation : We can see that Biotechnology sector leads in total amount of investments raised with mobile and software following. The sector involved with technology (software) and health seems to be most funded."
   ]
  },
  {
   "cell_type": "code",
   "execution_count": 18,
   "id": "9a25b916-3bd5-4459-997e-a5d5eb9acd61",
   "metadata": {},
   "outputs": [
    {
     "name": "stderr",
     "output_type": "stream",
     "text": [
      "C:\\Users\\user\\AppData\\Local\\Temp\\ipykernel_32776\\161177097.py:2: FutureWarning: Dropping of nuisance columns in DataFrame reductions (with 'numeric_only=None') is deprecated; in a future version this will raise TypeError.  Select only valid columns before calling the reduction.\n",
      "  sum_rounds_funding = startups_df.sum()\n"
     ]
    },
    {
     "data": {
      "text/plain": [
       "Text(0, 0.5, 'Total funding USD in billions')"
      ]
     },
     "execution_count": 18,
     "metadata": {},
     "output_type": "execute_result"
    },
    {
     "data": {
      "image/png": "[encoded data removed]",
      "text/plain": [
       "<Figure size 432x288 with 1 Axes>"
      ]
     },
     "metadata": {
      "needs_background": "light"
     },
     "output_type": "display_data"
    }
   ],
   "source": [
    "# 7. Total funding for each round series \n",
    "sum_rounds_funding = startups_df.sum()\n",
    "sum_round = sum_rounds_funding[-8:].to_frame(name=\"total_funding\")\n",
    "sum_round['total_funding'] = sum_round['total_funding']/1000000000\n",
    "sum_round.plot.bar()\n",
    "plt.title(\"Total Funding by Series\")\n",
    "plt.ylabel(\"Total funding USD in billions\")"
   ]
  },
  {
   "cell_type": "markdown",
   "id": "de412f1f-bed0-4f8f-b77e-029358d7f5a3",
   "metadata": {},
   "source": [
    "Observation : We see that there seems to be a trend that after the third round (series C), there seems to be a declining trend for funding receiveced at each round. \n",
    "This makes sense as the further the company goes through each round, the company is expected to rely on their earnings to run their operations rather than capital raised. "
   ]
  },
  {
   "cell_type": "code",
   "execution_count": 19,
   "id": "94a981bf-a757-4a97-9b59-2986da8d3f4e",
   "metadata": {},
   "outputs": [
    {
     "data": {
      "text/html": [
       "<div>\n",
       "<style scoped>\n",
       "    .dataframe tbody tr th:only-of-type {\n",
       "        vertical-align: middle;\n",
       "    }\n",
       "\n",
       "    .dataframe tbody tr th {\n",
       "        vertical-align: top;\n",
       "    }\n",
       "\n",
       "    .dataframe thead th {\n",
       "        text-align: right;\n",
       "    }\n",
       "</style>\n",
       "<table border=\"1\" class=\"dataframe\">\n",
       "  <thead>\n",
       "    <tr style=\"text-align: right;\">\n",
       "      <th></th>\n",
       "      <th>Average funding</th>\n",
       "    </tr>\n",
       "    <tr>\n",
       "      <th>status</th>\n",
       "      <th></th>\n",
       "    </tr>\n",
       "  </thead>\n",
       "  <tbody>\n",
       "    <tr>\n",
       "      <th>acquired</th>\n",
       "      <td>2.251721e+07</td>\n",
       "    </tr>\n",
       "    <tr>\n",
       "      <th>closed</th>\n",
       "      <td>6.703145e+06</td>\n",
       "    </tr>\n",
       "    <tr>\n",
       "      <th>operating</th>\n",
       "      <td>1.488769e+07</td>\n",
       "    </tr>\n",
       "  </tbody>\n",
       "</table>\n",
       "</div>"
      ],
      "text/plain": [
       "           Average funding\n",
       "status                    \n",
       "acquired      2.251721e+07\n",
       "closed        6.703145e+06\n",
       "operating     1.488769e+07"
      ]
     },
     "execution_count": 19,
     "metadata": {},
     "output_type": "execute_result"
    }
   ],
   "source": [
    "# 8. Average funding for status \n",
    "df = startups_df.groupby([\"status\"])[\"total_funding\"].mean()\n",
    "df.to_frame(name = \"Average funding\")"
   ]
  },
  {
   "cell_type": "markdown",
   "id": "85e2872b-9046-4a52-b182-81a3dd1c9d1a",
   "metadata": {},
   "source": [
    "Observation : We can find that startups that were acquired on average receieved that most funding with around $22.5 million and those that closed received $6.7 million. \n",
    "This finding is logical that those that shut down its operations most likely due to funding issues show that they were unable to raise as much capital when compared to companies that were acquired or under oeprations. \n"
   ]
  },
  {
   "cell_type": "code",
   "execution_count": 20,
   "id": "001ff69a-d154-461a-8ab3-b7d037631258",
   "metadata": {},
   "outputs": [
    {
     "data": {
      "text/plain": [
       " Software                173\n",
       " Curated Web             157\n",
       " Mobile                  110\n",
       " Games                    77\n",
       " Biotechnology            75\n",
       " Social Media             71\n",
       " E-Commerce               68\n",
       " Advertising              53\n",
       " Clean Technology         39\n",
       " Hardware + Software      38\n",
       "Name: market, dtype: int64"
      ]
     },
     "execution_count": 20,
     "metadata": {},
     "output_type": "execute_result"
    }
   ],
   "source": [
    "# 9. Which sector closed the most \n",
    "closed = startups_df[startups_df[\"status\"]==\"closed\"]\n",
    "closed[\"market\"].value_counts().nlargest(10)"
   ]
  },
  {
   "cell_type": "markdown",
   "id": "d52c4018-830e-47df-ab55-3ec6d98b5bad",
   "metadata": {},
   "source": [
    "Observation : The companies that closed the most occured in the software and biotechnology sector. The most popular and well funded sectors also seemed to have many startups that closed. "
   ]
  },
  {
   "cell_type": "code",
   "execution_count": 21,
   "id": "487a66d3-6523-470d-b00c-8e49dbed7000",
   "metadata": {},
   "outputs": [
    {
     "data": {
      "text/plain": [
       " Software                3344\n",
       " Biotechnology           2283\n",
       " Mobile                  1308\n",
       " E-Commerce              1187\n",
       " Curated Web             1005\n",
       " Enterprise Software      954\n",
       " Health Care              791\n",
       " Advertising              747\n",
       " Games                    736\n",
       " Hardware + Software      731\n",
       "Name: market, dtype: int64"
      ]
     },
     "execution_count": 21,
     "metadata": {},
     "output_type": "execute_result"
    }
   ],
   "source": [
    "# 10. Most successful sector\n",
    "successful = startups_df[startups_df[\"status\"]!=\"closed\"]\n",
    "successful[\"market\"].value_counts().nlargest(10)"
   ]
  },
  {
   "cell_type": "markdown",
   "id": "9c03b6d0-108b-4895-a1bf-fe845f78e960",
   "metadata": {},
   "source": [
    "Observation : We see that companies that operate in the software, technology, and biohealth sector seemed to be those that were successful in running their operations. "
   ]
  },
  {
   "cell_type": "code",
   "execution_count": 22,
   "id": "642eceae-323e-4ae7-8088-f4421ffe28f5",
   "metadata": {},
   "outputs": [
    {
     "data": {
      "text/html": [
       "<div>\n",
       "<style scoped>\n",
       "    .dataframe tbody tr th:only-of-type {\n",
       "        vertical-align: middle;\n",
       "    }\n",
       "\n",
       "    .dataframe tbody tr th {\n",
       "        vertical-align: top;\n",
       "    }\n",
       "\n",
       "    .dataframe thead th {\n",
       "        text-align: right;\n",
       "    }\n",
       "</style>\n",
       "<table border=\"1\" class=\"dataframe\">\n",
       "  <thead>\n",
       "    <tr style=\"text-align: right;\">\n",
       "      <th></th>\n",
       "      <th>Total Funding</th>\n",
       "    </tr>\n",
       "  </thead>\n",
       "  <tbody>\n",
       "    <tr>\n",
       "      <th>venture</th>\n",
       "      <td>299202007261</td>\n",
       "    </tr>\n",
       "    <tr>\n",
       "      <th>angel</th>\n",
       "      <td>2446439792</td>\n",
       "    </tr>\n",
       "    <tr>\n",
       "      <th>pe</th>\n",
       "      <td>77675760580</td>\n",
       "    </tr>\n",
       "  </tbody>\n",
       "</table>\n",
       "</div>"
      ],
      "text/plain": [
       "         Total Funding\n",
       "venture   299202007261\n",
       "angel       2446439792\n",
       "pe         77675760580"
      ]
     },
     "execution_count": 22,
     "metadata": {},
     "output_type": "execute_result"
    }
   ],
   "source": [
    "# 11. Startup investment sources (angel, pe, venture funding)\n",
    "venture_funding = startups_df[\"venture\"].sum()\n",
    "angel_funding = startups_df[\"angel\"].sum()\n",
    "pe_funding = startups_df[\"private_equity\"].sum()\n",
    "my_array = np.array([venture_funding, angel_funding, pe_funding])\n",
    "df = pd.DataFrame(my_array, index = [\"venture\",\"angel\", \"pe\"], columns = [\"Total Funding\"])\n",
    "df"
   ]
  },
  {
   "cell_type": "markdown",
   "id": "9d8f8447-6a85-4cf9-a6e6-c39a30a1e5f3",
   "metadata": {},
   "source": [
    "Observation : We see that VC firms invested the most amount of capital followed by PE, and angel investors. \n",
    "This is in line with the idea that angel investors invest the earliest stage followed by VC firms who primarily invest in startups and \n",
    "PE firms are most risk averse among the three  "
   ]
  },
  {
   "cell_type": "code",
   "execution_count": 23,
   "id": "16bfc15d-0cac-4387-9351-eaca503ea87a",
   "metadata": {},
   "outputs": [
    {
     "data": {
      "text/html": [
       "<div>\n",
       "<style scoped>\n",
       "    .dataframe tbody tr th:only-of-type {\n",
       "        vertical-align: middle;\n",
       "    }\n",
       "\n",
       "    .dataframe tbody tr th {\n",
       "        vertical-align: top;\n",
       "    }\n",
       "\n",
       "    .dataframe thead th {\n",
       "        text-align: right;\n",
       "    }\n",
       "</style>\n",
       "<table border=\"1\" class=\"dataframe\">\n",
       "  <thead>\n",
       "    <tr style=\"text-align: right;\">\n",
       "      <th></th>\n",
       "      <th>name</th>\n",
       "      <th>market</th>\n",
       "      <th>total_funding</th>\n",
       "      <th>status</th>\n",
       "      <th>country_code</th>\n",
       "      <th>funding_rounds</th>\n",
       "      <th>founded_year</th>\n",
       "      <th>seed</th>\n",
       "      <th>venture</th>\n",
       "      <th>equity_crowdfunding</th>\n",
       "      <th>...</th>\n",
       "      <th>secondary_market</th>\n",
       "      <th>product_crowdfunding</th>\n",
       "      <th>round_A</th>\n",
       "      <th>round_B</th>\n",
       "      <th>round_C</th>\n",
       "      <th>round_D</th>\n",
       "      <th>round_E</th>\n",
       "      <th>round_F</th>\n",
       "      <th>round_G</th>\n",
       "      <th>round_H</th>\n",
       "    </tr>\n",
       "  </thead>\n",
       "  <tbody>\n",
       "    <tr>\n",
       "      <th>45815</th>\n",
       "      <td>Verizon Communications</td>\n",
       "      <td>Mobile</td>\n",
       "      <td>3.007950e+10</td>\n",
       "      <td>operating</td>\n",
       "      <td>USA</td>\n",
       "      <td>5</td>\n",
       "      <td>1983</td>\n",
       "      <td>0</td>\n",
       "      <td>0</td>\n",
       "      <td>0</td>\n",
       "      <td>...</td>\n",
       "      <td>0</td>\n",
       "      <td>0</td>\n",
       "      <td>0</td>\n",
       "      <td>0</td>\n",
       "      <td>0</td>\n",
       "      <td>0</td>\n",
       "      <td>0</td>\n",
       "      <td>0</td>\n",
       "      <td>0.000000e+00</td>\n",
       "      <td>0.0</td>\n",
       "    </tr>\n",
       "    <tr>\n",
       "      <th>8664</th>\n",
       "      <td>Clearwire</td>\n",
       "      <td>Internet</td>\n",
       "      <td>5.700000e+09</td>\n",
       "      <td>acquired</td>\n",
       "      <td>USA</td>\n",
       "      <td>4</td>\n",
       "      <td>2003</td>\n",
       "      <td>0</td>\n",
       "      <td>0</td>\n",
       "      <td>0</td>\n",
       "      <td>...</td>\n",
       "      <td>0</td>\n",
       "      <td>0</td>\n",
       "      <td>0</td>\n",
       "      <td>0</td>\n",
       "      <td>0</td>\n",
       "      <td>0</td>\n",
       "      <td>0</td>\n",
       "      <td>0</td>\n",
       "      <td>0.000000e+00</td>\n",
       "      <td>0.0</td>\n",
       "    </tr>\n",
       "    <tr>\n",
       "      <th>15315</th>\n",
       "      <td>First Data Corporation</td>\n",
       "      <td>Trading</td>\n",
       "      <td>3.500000e+09</td>\n",
       "      <td>operating</td>\n",
       "      <td>USA</td>\n",
       "      <td>1</td>\n",
       "      <td>1971</td>\n",
       "      <td>0</td>\n",
       "      <td>0</td>\n",
       "      <td>0</td>\n",
       "      <td>...</td>\n",
       "      <td>0</td>\n",
       "      <td>0</td>\n",
       "      <td>0</td>\n",
       "      <td>0</td>\n",
       "      <td>0</td>\n",
       "      <td>0</td>\n",
       "      <td>0</td>\n",
       "      <td>0</td>\n",
       "      <td>0.000000e+00</td>\n",
       "      <td>0.0</td>\n",
       "    </tr>\n",
       "    <tr>\n",
       "      <th>38289</th>\n",
       "      <td>sigmacare</td>\n",
       "      <td>Health and Wellness</td>\n",
       "      <td>2.600000e+09</td>\n",
       "      <td>operating</td>\n",
       "      <td>USA</td>\n",
       "      <td>1</td>\n",
       "      <td>2005</td>\n",
       "      <td>0</td>\n",
       "      <td>0</td>\n",
       "      <td>0</td>\n",
       "      <td>...</td>\n",
       "      <td>0</td>\n",
       "      <td>0</td>\n",
       "      <td>0</td>\n",
       "      <td>0</td>\n",
       "      <td>0</td>\n",
       "      <td>0</td>\n",
       "      <td>0</td>\n",
       "      <td>0</td>\n",
       "      <td>0.000000e+00</td>\n",
       "      <td>0.0</td>\n",
       "    </tr>\n",
       "    <tr>\n",
       "      <th>14705</th>\n",
       "      <td>Facebook</td>\n",
       "      <td>Communities</td>\n",
       "      <td>2.425700e+09</td>\n",
       "      <td>operating</td>\n",
       "      <td>USA</td>\n",
       "      <td>11</td>\n",
       "      <td>2004</td>\n",
       "      <td>0</td>\n",
       "      <td>615200000</td>\n",
       "      <td>0</td>\n",
       "      <td>...</td>\n",
       "      <td>0</td>\n",
       "      <td>0</td>\n",
       "      <td>12700000</td>\n",
       "      <td>27500000</td>\n",
       "      <td>375000000</td>\n",
       "      <td>200000000</td>\n",
       "      <td>0</td>\n",
       "      <td>0</td>\n",
       "      <td>0.000000e+00</td>\n",
       "      <td>0.0</td>\n",
       "    </tr>\n",
       "    <tr>\n",
       "      <th>7328</th>\n",
       "      <td>Carestream</td>\n",
       "      <td>Biotechnology</td>\n",
       "      <td>2.400000e+09</td>\n",
       "      <td>operating</td>\n",
       "      <td>USA</td>\n",
       "      <td>1</td>\n",
       "      <td>2007</td>\n",
       "      <td>0</td>\n",
       "      <td>0</td>\n",
       "      <td>0</td>\n",
       "      <td>...</td>\n",
       "      <td>0</td>\n",
       "      <td>0</td>\n",
       "      <td>0</td>\n",
       "      <td>0</td>\n",
       "      <td>0</td>\n",
       "      <td>0</td>\n",
       "      <td>0</td>\n",
       "      <td>0</td>\n",
       "      <td>0.000000e+00</td>\n",
       "      <td>0.0</td>\n",
       "    </tr>\n",
       "    <tr>\n",
       "      <th>15569</th>\n",
       "      <td>Flipkart</td>\n",
       "      <td>Online Shopping</td>\n",
       "      <td>2.351140e+09</td>\n",
       "      <td>operating</td>\n",
       "      <td>IND</td>\n",
       "      <td>11</td>\n",
       "      <td>2007</td>\n",
       "      <td>0</td>\n",
       "      <td>2351000000</td>\n",
       "      <td>0</td>\n",
       "      <td>...</td>\n",
       "      <td>0</td>\n",
       "      <td>0</td>\n",
       "      <td>1000000</td>\n",
       "      <td>10000000</td>\n",
       "      <td>20000000</td>\n",
       "      <td>150000000</td>\n",
       "      <td>360000000</td>\n",
       "      <td>210000000</td>\n",
       "      <td>1.000000e+09</td>\n",
       "      <td>600000000.0</td>\n",
       "    </tr>\n",
       "    <tr>\n",
       "      <th>35399</th>\n",
       "      <td>Reliance Jio Infocomm Ltd.</td>\n",
       "      <td>Development Platforms</td>\n",
       "      <td>2.250000e+09</td>\n",
       "      <td>operating</td>\n",
       "      <td>IND</td>\n",
       "      <td>2</td>\n",
       "      <td>2007</td>\n",
       "      <td>0</td>\n",
       "      <td>0</td>\n",
       "      <td>0</td>\n",
       "      <td>...</td>\n",
       "      <td>0</td>\n",
       "      <td>0</td>\n",
       "      <td>0</td>\n",
       "      <td>0</td>\n",
       "      <td>0</td>\n",
       "      <td>0</td>\n",
       "      <td>0</td>\n",
       "      <td>0</td>\n",
       "      <td>0.000000e+00</td>\n",
       "      <td>0.0</td>\n",
       "    </tr>\n",
       "    <tr>\n",
       "      <th>48936</th>\n",
       "      <td>Zebra Technologies</td>\n",
       "      <td>Enterprise Software</td>\n",
       "      <td>2.000000e+09</td>\n",
       "      <td>operating</td>\n",
       "      <td>USA</td>\n",
       "      <td>1</td>\n",
       "      <td>1991</td>\n",
       "      <td>0</td>\n",
       "      <td>0</td>\n",
       "      <td>0</td>\n",
       "      <td>...</td>\n",
       "      <td>0</td>\n",
       "      <td>0</td>\n",
       "      <td>0</td>\n",
       "      <td>0</td>\n",
       "      <td>0</td>\n",
       "      <td>0</td>\n",
       "      <td>0</td>\n",
       "      <td>0</td>\n",
       "      <td>0.000000e+00</td>\n",
       "      <td>0.0</td>\n",
       "    </tr>\n",
       "    <tr>\n",
       "      <th>34329</th>\n",
       "      <td>Quad/Graphics</td>\n",
       "      <td>Local Businesses</td>\n",
       "      <td>1.900000e+09</td>\n",
       "      <td>operating</td>\n",
       "      <td>USA</td>\n",
       "      <td>1</td>\n",
       "      <td>1971</td>\n",
       "      <td>0</td>\n",
       "      <td>0</td>\n",
       "      <td>0</td>\n",
       "      <td>...</td>\n",
       "      <td>0</td>\n",
       "      <td>0</td>\n",
       "      <td>0</td>\n",
       "      <td>0</td>\n",
       "      <td>0</td>\n",
       "      <td>0</td>\n",
       "      <td>0</td>\n",
       "      <td>0</td>\n",
       "      <td>0.000000e+00</td>\n",
       "      <td>0.0</td>\n",
       "    </tr>\n",
       "  </tbody>\n",
       "</table>\n",
       "<p>10 rows × 27 columns</p>\n",
       "</div>"
      ],
      "text/plain": [
       "                             name                   market  total_funding  \\\n",
       "45815      Verizon Communications                  Mobile    3.007950e+10   \n",
       "8664                    Clearwire                Internet    5.700000e+09   \n",
       "15315      First Data Corporation                 Trading    3.500000e+09   \n",
       "38289                   sigmacare     Health and Wellness    2.600000e+09   \n",
       "14705                    Facebook             Communities    2.425700e+09   \n",
       "7328                   Carestream           Biotechnology    2.400000e+09   \n",
       "15569                    Flipkart         Online Shopping    2.351140e+09   \n",
       "35399  Reliance Jio Infocomm Ltd.   Development Platforms    2.250000e+09   \n",
       "48936          Zebra Technologies     Enterprise Software    2.000000e+09   \n",
       "34329               Quad/Graphics        Local Businesses    1.900000e+09   \n",
       "\n",
       "          status country_code funding_rounds  founded_year  seed     venture  \\\n",
       "45815  operating          USA              5          1983     0           0   \n",
       "8664    acquired          USA              4          2003     0           0   \n",
       "15315  operating          USA              1          1971     0           0   \n",
       "38289  operating          USA              1          2005     0           0   \n",
       "14705  operating          USA             11          2004     0   615200000   \n",
       "7328   operating          USA              1          2007     0           0   \n",
       "15569  operating          IND             11          2007     0  2351000000   \n",
       "35399  operating          IND              2          2007     0           0   \n",
       "48936  operating          USA              1          1991     0           0   \n",
       "34329  operating          USA              1          1971     0           0   \n",
       "\n",
       "       equity_crowdfunding  ...  secondary_market  product_crowdfunding  \\\n",
       "45815                    0  ...                 0                     0   \n",
       "8664                     0  ...                 0                     0   \n",
       "15315                    0  ...                 0                     0   \n",
       "38289                    0  ...                 0                     0   \n",
       "14705                    0  ...                 0                     0   \n",
       "7328                     0  ...                 0                     0   \n",
       "15569                    0  ...                 0                     0   \n",
       "35399                    0  ...                 0                     0   \n",
       "48936                    0  ...                 0                     0   \n",
       "34329                    0  ...                 0                     0   \n",
       "\n",
       "        round_A   round_B    round_C    round_D    round_E    round_F  \\\n",
       "45815         0         0          0          0          0          0   \n",
       "8664          0         0          0          0          0          0   \n",
       "15315         0         0          0          0          0          0   \n",
       "38289         0         0          0          0          0          0   \n",
       "14705  12700000  27500000  375000000  200000000          0          0   \n",
       "7328          0         0          0          0          0          0   \n",
       "15569   1000000  10000000   20000000  150000000  360000000  210000000   \n",
       "35399         0         0          0          0          0          0   \n",
       "48936         0         0          0          0          0          0   \n",
       "34329         0         0          0          0          0          0   \n",
       "\n",
       "            round_G      round_H  \n",
       "45815  0.000000e+00          0.0  \n",
       "8664   0.000000e+00          0.0  \n",
       "15315  0.000000e+00          0.0  \n",
       "38289  0.000000e+00          0.0  \n",
       "14705  0.000000e+00          0.0  \n",
       "7328   0.000000e+00          0.0  \n",
       "15569  1.000000e+09  600000000.0  \n",
       "35399  0.000000e+00          0.0  \n",
       "48936  0.000000e+00          0.0  \n",
       "34329  0.000000e+00          0.0  \n",
       "\n",
       "[10 rows x 27 columns]"
      ]
     },
     "execution_count": 23,
     "metadata": {},
     "output_type": "execute_result"
    }
   ],
   "source": [
    "# 12. Top 10 companies that raised most funding throughout entire time period \n",
    "top_funding_10 = startups_df.nlargest(10,'total_funding')\n",
    "top_funding_10"
   ]
  },
  {
   "cell_type": "markdown",
   "id": "1a5f48c7-aace-4690-9327-e6121e9c9e7b",
   "metadata": {},
   "source": [
    "Observation : We see that the companies that were able to raise the most funding are still operating to this day and some of them are well-known successful companies that are already listed on the stock exchange with the most famous ones such as Facebook, Verizon, Flipcart. \n",
    "Most well funded companies are found in the USA with India following. "
   ]
  },
  {
   "cell_type": "code",
   "execution_count": 24,
   "id": "62329ab6-bdc9-42fd-b69e-f98d7cd27c81",
   "metadata": {},
   "outputs": [
    {
     "data": {
      "text/html": [
       "<div>\n",
       "<style scoped>\n",
       "    .dataframe tbody tr th:only-of-type {\n",
       "        vertical-align: middle;\n",
       "    }\n",
       "\n",
       "    .dataframe tbody tr th {\n",
       "        vertical-align: top;\n",
       "    }\n",
       "\n",
       "    .dataframe thead th {\n",
       "        text-align: right;\n",
       "    }\n",
       "</style>\n",
       "<table border=\"1\" class=\"dataframe\">\n",
       "  <thead>\n",
       "    <tr style=\"text-align: right;\">\n",
       "      <th></th>\n",
       "      <th>name</th>\n",
       "      <th>market</th>\n",
       "      <th>total_funding</th>\n",
       "      <th>status</th>\n",
       "      <th>country_code</th>\n",
       "      <th>funding_rounds</th>\n",
       "      <th>founded_year</th>\n",
       "      <th>seed</th>\n",
       "      <th>venture</th>\n",
       "      <th>equity_crowdfunding</th>\n",
       "      <th>...</th>\n",
       "      <th>secondary_market</th>\n",
       "      <th>product_crowdfunding</th>\n",
       "      <th>round_A</th>\n",
       "      <th>round_B</th>\n",
       "      <th>round_C</th>\n",
       "      <th>round_D</th>\n",
       "      <th>round_E</th>\n",
       "      <th>round_F</th>\n",
       "      <th>round_G</th>\n",
       "      <th>round_H</th>\n",
       "    </tr>\n",
       "  </thead>\n",
       "  <tbody>\n",
       "    <tr>\n",
       "      <th>45671</th>\n",
       "      <td>Venari Resources</td>\n",
       "      <td>Oil and Gas</td>\n",
       "      <td>1.498515e+09</td>\n",
       "      <td>operating</td>\n",
       "      <td>USA</td>\n",
       "      <td>1</td>\n",
       "      <td>2012</td>\n",
       "      <td>0</td>\n",
       "      <td>0</td>\n",
       "      <td>0</td>\n",
       "      <td>...</td>\n",
       "      <td>0</td>\n",
       "      <td>0</td>\n",
       "      <td>0</td>\n",
       "      <td>0</td>\n",
       "      <td>0</td>\n",
       "      <td>0</td>\n",
       "      <td>0</td>\n",
       "      <td>0</td>\n",
       "      <td>0.0</td>\n",
       "      <td>0.0</td>\n",
       "    </tr>\n",
       "    <tr>\n",
       "      <th>39127</th>\n",
       "      <td>Snapdeal</td>\n",
       "      <td>E-Commerce</td>\n",
       "      <td>1.062700e+09</td>\n",
       "      <td>operating</td>\n",
       "      <td>IND</td>\n",
       "      <td>8</td>\n",
       "      <td>2010</td>\n",
       "      <td>0</td>\n",
       "      <td>335700000</td>\n",
       "      <td>0</td>\n",
       "      <td>...</td>\n",
       "      <td>0</td>\n",
       "      <td>0</td>\n",
       "      <td>12000000</td>\n",
       "      <td>40000000</td>\n",
       "      <td>0</td>\n",
       "      <td>75000000</td>\n",
       "      <td>75000000</td>\n",
       "      <td>133700000</td>\n",
       "      <td>0.0</td>\n",
       "      <td>0.0</td>\n",
       "    </tr>\n",
       "    <tr>\n",
       "      <th>23576</th>\n",
       "      <td>Lazada Group</td>\n",
       "      <td>E-Commerce</td>\n",
       "      <td>6.851012e+08</td>\n",
       "      <td>operating</td>\n",
       "      <td>MYS</td>\n",
       "      <td>6</td>\n",
       "      <td>2012</td>\n",
       "      <td>0</td>\n",
       "      <td>685101159</td>\n",
       "      <td>0</td>\n",
       "      <td>...</td>\n",
       "      <td>0</td>\n",
       "      <td>0</td>\n",
       "      <td>40000000</td>\n",
       "      <td>26000000</td>\n",
       "      <td>20000000</td>\n",
       "      <td>100000000</td>\n",
       "      <td>250000000</td>\n",
       "      <td>249101159</td>\n",
       "      <td>0.0</td>\n",
       "      <td>0.0</td>\n",
       "    </tr>\n",
       "    <tr>\n",
       "      <th>11336</th>\n",
       "      <td>Delivery Hero</td>\n",
       "      <td>Hospitality</td>\n",
       "      <td>6.566633e+08</td>\n",
       "      <td>operating</td>\n",
       "      <td>DEU</td>\n",
       "      <td>9</td>\n",
       "      <td>2011</td>\n",
       "      <td>0</td>\n",
       "      <td>656663300</td>\n",
       "      <td>0</td>\n",
       "      <td>...</td>\n",
       "      <td>0</td>\n",
       "      <td>0</td>\n",
       "      <td>5530000</td>\n",
       "      <td>14853300</td>\n",
       "      <td>33280000</td>\n",
       "      <td>80000000</td>\n",
       "      <td>88000000</td>\n",
       "      <td>85000000</td>\n",
       "      <td>350000000.0</td>\n",
       "      <td>0.0</td>\n",
       "    </tr>\n",
       "    <tr>\n",
       "      <th>41892</th>\n",
       "      <td>Tamra-Tacoma Capital Partners</td>\n",
       "      <td>Solar</td>\n",
       "      <td>6.350000e+08</td>\n",
       "      <td>operating</td>\n",
       "      <td>USA</td>\n",
       "      <td>5</td>\n",
       "      <td>2012</td>\n",
       "      <td>2250000</td>\n",
       "      <td>0</td>\n",
       "      <td>0</td>\n",
       "      <td>...</td>\n",
       "      <td>0</td>\n",
       "      <td>0</td>\n",
       "      <td>0</td>\n",
       "      <td>0</td>\n",
       "      <td>0</td>\n",
       "      <td>0</td>\n",
       "      <td>0</td>\n",
       "      <td>0</td>\n",
       "      <td>0.0</td>\n",
       "      <td>0.0</td>\n",
       "    </tr>\n",
       "    <tr>\n",
       "      <th>25134</th>\n",
       "      <td>Magic Leap</td>\n",
       "      <td>Video</td>\n",
       "      <td>5.920000e+08</td>\n",
       "      <td>operating</td>\n",
       "      <td>USA</td>\n",
       "      <td>2</td>\n",
       "      <td>2011</td>\n",
       "      <td>0</td>\n",
       "      <td>592000000</td>\n",
       "      <td>0</td>\n",
       "      <td>...</td>\n",
       "      <td>0</td>\n",
       "      <td>0</td>\n",
       "      <td>50000000</td>\n",
       "      <td>542000000</td>\n",
       "      <td>0</td>\n",
       "      <td>0</td>\n",
       "      <td>0</td>\n",
       "      <td>0</td>\n",
       "      <td>0.0</td>\n",
       "      <td>0.0</td>\n",
       "    </tr>\n",
       "    <tr>\n",
       "      <th>39394</th>\n",
       "      <td>SoFi</td>\n",
       "      <td>Peer-to-Peer</td>\n",
       "      <td>5.661999e+08</td>\n",
       "      <td>operating</td>\n",
       "      <td>USA</td>\n",
       "      <td>10</td>\n",
       "      <td>2011</td>\n",
       "      <td>0</td>\n",
       "      <td>165199900</td>\n",
       "      <td>0</td>\n",
       "      <td>...</td>\n",
       "      <td>0</td>\n",
       "      <td>0</td>\n",
       "      <td>8000000</td>\n",
       "      <td>77199900</td>\n",
       "      <td>80000000</td>\n",
       "      <td>0</td>\n",
       "      <td>0</td>\n",
       "      <td>0</td>\n",
       "      <td>0.0</td>\n",
       "      <td>0.0</td>\n",
       "    </tr>\n",
       "    <tr>\n",
       "      <th>36322</th>\n",
       "      <td>Rouse Properties</td>\n",
       "      <td>Real Estate</td>\n",
       "      <td>5.100000e+08</td>\n",
       "      <td>operating</td>\n",
       "      <td>USA</td>\n",
       "      <td>1</td>\n",
       "      <td>2012</td>\n",
       "      <td>0</td>\n",
       "      <td>0</td>\n",
       "      <td>0</td>\n",
       "      <td>...</td>\n",
       "      <td>0</td>\n",
       "      <td>0</td>\n",
       "      <td>0</td>\n",
       "      <td>0</td>\n",
       "      <td>0</td>\n",
       "      <td>0</td>\n",
       "      <td>0</td>\n",
       "      <td>0</td>\n",
       "      <td>0.0</td>\n",
       "      <td>0.0</td>\n",
       "    </tr>\n",
       "    <tr>\n",
       "      <th>3932</th>\n",
       "      <td>AvantCredit</td>\n",
       "      <td>Finance</td>\n",
       "      <td>5.090000e+08</td>\n",
       "      <td>operating</td>\n",
       "      <td>USA</td>\n",
       "      <td>6</td>\n",
       "      <td>2012</td>\n",
       "      <td>0</td>\n",
       "      <td>109000000</td>\n",
       "      <td>0</td>\n",
       "      <td>...</td>\n",
       "      <td>0</td>\n",
       "      <td>0</td>\n",
       "      <td>9000000</td>\n",
       "      <td>25000000</td>\n",
       "      <td>75000000</td>\n",
       "      <td>0</td>\n",
       "      <td>0</td>\n",
       "      <td>0</td>\n",
       "      <td>0.0</td>\n",
       "      <td>0.0</td>\n",
       "    </tr>\n",
       "    <tr>\n",
       "      <th>28505</th>\n",
       "      <td>Navitas Midstream Partners</td>\n",
       "      <td>Oil &amp; Gas</td>\n",
       "      <td>5.000000e+08</td>\n",
       "      <td>operating</td>\n",
       "      <td>USA</td>\n",
       "      <td>1</td>\n",
       "      <td>2013</td>\n",
       "      <td>0</td>\n",
       "      <td>0</td>\n",
       "      <td>0</td>\n",
       "      <td>...</td>\n",
       "      <td>0</td>\n",
       "      <td>0</td>\n",
       "      <td>0</td>\n",
       "      <td>0</td>\n",
       "      <td>0</td>\n",
       "      <td>0</td>\n",
       "      <td>0</td>\n",
       "      <td>0</td>\n",
       "      <td>0.0</td>\n",
       "      <td>0.0</td>\n",
       "    </tr>\n",
       "  </tbody>\n",
       "</table>\n",
       "<p>10 rows × 27 columns</p>\n",
       "</div>"
      ],
      "text/plain": [
       "                                name          market  total_funding  \\\n",
       "45671               Venari Resources    Oil and Gas    1.498515e+09   \n",
       "39127                       Snapdeal     E-Commerce    1.062700e+09   \n",
       "23576                   Lazada Group     E-Commerce    6.851012e+08   \n",
       "11336                  Delivery Hero    Hospitality    6.566633e+08   \n",
       "41892  Tamra-Tacoma Capital Partners          Solar    6.350000e+08   \n",
       "25134                     Magic Leap          Video    5.920000e+08   \n",
       "39394                           SoFi   Peer-to-Peer    5.661999e+08   \n",
       "36322               Rouse Properties    Real Estate    5.100000e+08   \n",
       "3932                     AvantCredit        Finance    5.090000e+08   \n",
       "28505     Navitas Midstream Partners      Oil & Gas    5.000000e+08   \n",
       "\n",
       "          status country_code funding_rounds  founded_year     seed  \\\n",
       "45671  operating          USA              1          2012        0   \n",
       "39127  operating          IND              8          2010        0   \n",
       "23576  operating          MYS              6          2012        0   \n",
       "11336  operating          DEU              9          2011        0   \n",
       "41892  operating          USA              5          2012  2250000   \n",
       "25134  operating          USA              2          2011        0   \n",
       "39394  operating          USA             10          2011        0   \n",
       "36322  operating          USA              1          2012        0   \n",
       "3932   operating          USA              6          2012        0   \n",
       "28505  operating          USA              1          2013        0   \n",
       "\n",
       "         venture  equity_crowdfunding  ...  secondary_market  \\\n",
       "45671          0                    0  ...                 0   \n",
       "39127  335700000                    0  ...                 0   \n",
       "23576  685101159                    0  ...                 0   \n",
       "11336  656663300                    0  ...                 0   \n",
       "41892          0                    0  ...                 0   \n",
       "25134  592000000                    0  ...                 0   \n",
       "39394  165199900                    0  ...                 0   \n",
       "36322          0                    0  ...                 0   \n",
       "3932   109000000                    0  ...                 0   \n",
       "28505          0                    0  ...                 0   \n",
       "\n",
       "       product_crowdfunding   round_A    round_B   round_C    round_D  \\\n",
       "45671                     0         0          0         0          0   \n",
       "39127                     0  12000000   40000000         0   75000000   \n",
       "23576                     0  40000000   26000000  20000000  100000000   \n",
       "11336                     0   5530000   14853300  33280000   80000000   \n",
       "41892                     0         0          0         0          0   \n",
       "25134                     0  50000000  542000000         0          0   \n",
       "39394                     0   8000000   77199900  80000000          0   \n",
       "36322                     0         0          0         0          0   \n",
       "3932                      0   9000000   25000000  75000000          0   \n",
       "28505                     0         0          0         0          0   \n",
       "\n",
       "         round_E    round_F      round_G  round_H  \n",
       "45671          0          0          0.0      0.0  \n",
       "39127   75000000  133700000          0.0      0.0  \n",
       "23576  250000000  249101159          0.0      0.0  \n",
       "11336   88000000   85000000  350000000.0      0.0  \n",
       "41892          0          0          0.0      0.0  \n",
       "25134          0          0          0.0      0.0  \n",
       "39394          0          0          0.0      0.0  \n",
       "36322          0          0          0.0      0.0  \n",
       "3932           0          0          0.0      0.0  \n",
       "28505          0          0          0.0      0.0  \n",
       "\n",
       "[10 rows x 27 columns]"
      ]
     },
     "execution_count": 24,
     "metadata": {},
     "output_type": "execute_result"
    }
   ],
   "source": [
    "# 13. Top 10 companies that raised most funding after 2010 \n",
    "startups_2010_df = startups_df[startups_df[\"founded_year\"]>=2010]\n",
    "startups_2010_df.nlargest(10,'total_funding')"
   ]
  },
  {
   "cell_type": "markdown",
   "id": "bf00e4a2-4d68-40f3-840c-577aafa5967a",
   "metadata": {},
   "source": [
    "Observation : Since there was a boom in the number of startups founded after 2010, we wanted to observe those that were most funded during this time period and we see some of the more latest names such as Lazada, Delivery Hero, Sofi\n"
   ]
  },
  {
   "cell_type": "code",
   "execution_count": 25,
   "id": "7d111103-345d-4459-b64f-b6e11b9400ab",
   "metadata": {},
   "outputs": [
    {
     "name": "stdout",
     "output_type": "stream",
     "text": [
      "debt_financing  total_funding    0.933604\n",
      "round_H         round_G          0.858450\n",
      "round_D         venture          0.607706\n",
      "round_C         venture          0.587558\n",
      "round_E         venture          0.551142\n",
      "                                   ...   \n",
      "round_C         founded_year    -0.047094\n",
      "private_equity  founded_year    -0.062722\n",
      "founded_year    total_funding   -0.067743\n",
      "grant           founded_year    -0.090100\n",
      "venture         founded_year    -0.093135\n",
      "Length: 231, dtype: float64\n"
     ]
    },
    {
     "name": "stderr",
     "output_type": "stream",
     "text": [
      "C:\\Users\\user\\AppData\\Local\\Temp\\ipykernel_32776\\2945576204.py:12: DeprecationWarning: `np.bool` is a deprecated alias for the builtin `bool`. To silence this warning, use `bool` by itself. Doing this will not modify any behavior and is safe. If you specifically wanted the numpy scalar type, use `np.bool_` here.\n",
      "Deprecated in NumPy 1.20; for more details and guidance: https://numpy.org/devdocs/release/1.20.0-notes.html#deprecations\n",
      "  np.triu(np.ones(corr_mat.shape), k=1).astype(np.bool))\n"
     ]
    }
   ],
   "source": [
    "# We want to initialize the column that we want to predict for our model in the future\n",
    "# Our goal is to predict whether a company will be able to survive or close its operations (a binary classification problem)\n",
    "# Thus we assign 1 to those whose status are currently \"operating\" or \"acquired\" and 0 to the ones \"closed\"\n",
    "\n",
    "startups_df.loc[startups_df[\"status\"] == \"operating\", \"status\"] = 1\n",
    "startups_df.loc[startups_df[\"status\"] == \"acquired\", \"status\"] = 1\n",
    "startups_df.loc[startups_df[\"status\"] == \"closed\", \"status\"] = 0\n",
    "\n",
    "# Now as our last step of data analysis before creating a model is to see if there are any variable features that are closely related \n",
    "corr_mat=startups_df.corr()\n",
    "upper_corr_mat = corr_mat.where(\n",
    "    np.triu(np.ones(corr_mat.shape), k=1).astype(np.bool))\n",
    "  \n",
    "# Convert to 1-D series and drop Null values\n",
    "unique_corr_pairs = upper_corr_mat.unstack().dropna()\n",
    "  \n",
    "# Sort correlation pairs\n",
    "sorted_mat = unique_corr_pairs.sort_values(ascending = False)\n",
    "print(sorted_mat)\n"
   ]
  },
  {
   "cell_type": "markdown",
   "id": "553941b7-4a92-424a-9836-ae2d54661668",
   "metadata": {},
   "source": [
    "Observation : We see that debt financing and total funding, round H & round G, late rounds & Venture funding seem to have a meaningful correlation between the two features. \n",
    "However, we are unable to find a feature that has a strong correlation to the \"survived\" feature column that we are trying to predict. \n",
    "Thus, we will be exploring which features and which model will be used to best predict the result of a startup's success. "
   ]
  },
  {
   "cell_type": "code",
   "execution_count": 26,
   "id": "3123f442-0ba8-4b51-b253-c696d776c3a3",
   "metadata": {},
   "outputs": [
    {
     "data": {
      "image/png": "[encoded data removed]",
      "text/plain": [
       "<Figure size 432x288 with 2 Axes>"
      ]
     },
     "metadata": {
      "needs_background": "light"
     },
     "output_type": "display_data"
    }
   ],
   "source": [
    "# Correlation heatmap \n",
    "import seaborn as sb\n",
    "startups_df.corr()\n",
    "data_plot = sb.heatmap(startups_df.corr(), annot= False)\n",
    "plt.show()\n",
    "\n"
   ]
  },
  {
   "cell_type": "code",
   "execution_count": 27,
   "id": "c254181a-761b-47fe-9346-4294312e1607",
   "metadata": {},
   "outputs": [
    {
     "data": {
      "text/html": [
       "<div>\n",
       "<style scoped>\n",
       "    .dataframe tbody tr th:only-of-type {\n",
       "        vertical-align: middle;\n",
       "    }\n",
       "\n",
       "    .dataframe tbody tr th {\n",
       "        vertical-align: top;\n",
       "    }\n",
       "\n",
       "    .dataframe thead th {\n",
       "        text-align: right;\n",
       "    }\n",
       "</style>\n",
       "<table border=\"1\" class=\"dataframe\">\n",
       "  <thead>\n",
       "    <tr style=\"text-align: right;\">\n",
       "      <th></th>\n",
       "      <th>name</th>\n",
       "      <th>market</th>\n",
       "      <th>total_funding</th>\n",
       "      <th>status</th>\n",
       "      <th>country_code</th>\n",
       "      <th>funding_rounds</th>\n",
       "      <th>founded_year</th>\n",
       "      <th>seed</th>\n",
       "      <th>venture</th>\n",
       "      <th>equity_crowdfunding</th>\n",
       "      <th>...</th>\n",
       "      <th>secondary_market</th>\n",
       "      <th>product_crowdfunding</th>\n",
       "      <th>round_A</th>\n",
       "      <th>round_B</th>\n",
       "      <th>round_C</th>\n",
       "      <th>round_D</th>\n",
       "      <th>round_E</th>\n",
       "      <th>round_F</th>\n",
       "      <th>round_G</th>\n",
       "      <th>round_H</th>\n",
       "    </tr>\n",
       "  </thead>\n",
       "  <tbody>\n",
       "    <tr>\n",
       "      <th>0</th>\n",
       "      <td>#waywire</td>\n",
       "      <td>News</td>\n",
       "      <td>1750000.0</td>\n",
       "      <td>1</td>\n",
       "      <td>USA</td>\n",
       "      <td>1</td>\n",
       "      <td>2012</td>\n",
       "      <td>1750000</td>\n",
       "      <td>0</td>\n",
       "      <td>0</td>\n",
       "      <td>...</td>\n",
       "      <td>0</td>\n",
       "      <td>0</td>\n",
       "      <td>0</td>\n",
       "      <td>0</td>\n",
       "      <td>0</td>\n",
       "      <td>0</td>\n",
       "      <td>0</td>\n",
       "      <td>0</td>\n",
       "      <td>0.0</td>\n",
       "      <td>0.0</td>\n",
       "    </tr>\n",
       "    <tr>\n",
       "      <th>2</th>\n",
       "      <td>'Rock' Your Paper</td>\n",
       "      <td>Publishing</td>\n",
       "      <td>40000.0</td>\n",
       "      <td>1</td>\n",
       "      <td>EST</td>\n",
       "      <td>1</td>\n",
       "      <td>2012</td>\n",
       "      <td>40000</td>\n",
       "      <td>0</td>\n",
       "      <td>0</td>\n",
       "      <td>...</td>\n",
       "      <td>0</td>\n",
       "      <td>0</td>\n",
       "      <td>0</td>\n",
       "      <td>0</td>\n",
       "      <td>0</td>\n",
       "      <td>0</td>\n",
       "      <td>0</td>\n",
       "      <td>0</td>\n",
       "      <td>0.0</td>\n",
       "      <td>0.0</td>\n",
       "    </tr>\n",
       "    <tr>\n",
       "      <th>3</th>\n",
       "      <td>(In)Touch Network</td>\n",
       "      <td>Electronics</td>\n",
       "      <td>1500000.0</td>\n",
       "      <td>1</td>\n",
       "      <td>GBR</td>\n",
       "      <td>1</td>\n",
       "      <td>2011</td>\n",
       "      <td>1500000</td>\n",
       "      <td>0</td>\n",
       "      <td>0</td>\n",
       "      <td>...</td>\n",
       "      <td>0</td>\n",
       "      <td>0</td>\n",
       "      <td>0</td>\n",
       "      <td>0</td>\n",
       "      <td>0</td>\n",
       "      <td>0</td>\n",
       "      <td>0</td>\n",
       "      <td>0</td>\n",
       "      <td>0.0</td>\n",
       "      <td>0.0</td>\n",
       "    </tr>\n",
       "    <tr>\n",
       "      <th>4</th>\n",
       "      <td>-R- Ranch and Mine</td>\n",
       "      <td>Tourism</td>\n",
       "      <td>60000.0</td>\n",
       "      <td>1</td>\n",
       "      <td>USA</td>\n",
       "      <td>2</td>\n",
       "      <td>2014</td>\n",
       "      <td>0</td>\n",
       "      <td>0</td>\n",
       "      <td>60000</td>\n",
       "      <td>...</td>\n",
       "      <td>0</td>\n",
       "      <td>0</td>\n",
       "      <td>0</td>\n",
       "      <td>0</td>\n",
       "      <td>0</td>\n",
       "      <td>0</td>\n",
       "      <td>0</td>\n",
       "      <td>0</td>\n",
       "      <td>0.0</td>\n",
       "      <td>0.0</td>\n",
       "    </tr>\n",
       "    <tr>\n",
       "      <th>8</th>\n",
       "      <td>004 Technologies</td>\n",
       "      <td>Software</td>\n",
       "      <td>0.0</td>\n",
       "      <td>1</td>\n",
       "      <td>USA</td>\n",
       "      <td>1</td>\n",
       "      <td>2010</td>\n",
       "      <td>0</td>\n",
       "      <td>0</td>\n",
       "      <td>0</td>\n",
       "      <td>...</td>\n",
       "      <td>0</td>\n",
       "      <td>0</td>\n",
       "      <td>0</td>\n",
       "      <td>0</td>\n",
       "      <td>0</td>\n",
       "      <td>0</td>\n",
       "      <td>0</td>\n",
       "      <td>0</td>\n",
       "      <td>0.0</td>\n",
       "      <td>0.0</td>\n",
       "    </tr>\n",
       "    <tr>\n",
       "      <th>...</th>\n",
       "      <td>...</td>\n",
       "      <td>...</td>\n",
       "      <td>...</td>\n",
       "      <td>...</td>\n",
       "      <td>...</td>\n",
       "      <td>...</td>\n",
       "      <td>...</td>\n",
       "      <td>...</td>\n",
       "      <td>...</td>\n",
       "      <td>...</td>\n",
       "      <td>...</td>\n",
       "      <td>...</td>\n",
       "      <td>...</td>\n",
       "      <td>...</td>\n",
       "      <td>...</td>\n",
       "      <td>...</td>\n",
       "      <td>...</td>\n",
       "      <td>...</td>\n",
       "      <td>...</td>\n",
       "      <td>...</td>\n",
       "      <td>...</td>\n",
       "    </tr>\n",
       "    <tr>\n",
       "      <th>49430</th>\n",
       "      <td>Zyraz Technology</td>\n",
       "      <td>Biotechnology</td>\n",
       "      <td>15419877.0</td>\n",
       "      <td>0</td>\n",
       "      <td>MYS</td>\n",
       "      <td>4.0</td>\n",
       "      <td>1994</td>\n",
       "      <td>0</td>\n",
       "      <td>7991547</td>\n",
       "      <td>0</td>\n",
       "      <td>...</td>\n",
       "      <td>0</td>\n",
       "      <td>0</td>\n",
       "      <td>7991547</td>\n",
       "      <td>0</td>\n",
       "      <td>0</td>\n",
       "      <td>0</td>\n",
       "      <td>0</td>\n",
       "      <td>0</td>\n",
       "      <td>0.0</td>\n",
       "      <td>0.0</td>\n",
       "    </tr>\n",
       "    <tr>\n",
       "      <th>49432</th>\n",
       "      <td>Zytoprotec</td>\n",
       "      <td>Biotechnology</td>\n",
       "      <td>2686600.0</td>\n",
       "      <td>1</td>\n",
       "      <td>AUT</td>\n",
       "      <td>1.0</td>\n",
       "      <td>2007</td>\n",
       "      <td>0</td>\n",
       "      <td>2686600</td>\n",
       "      <td>0</td>\n",
       "      <td>...</td>\n",
       "      <td>0</td>\n",
       "      <td>0</td>\n",
       "      <td>2686600</td>\n",
       "      <td>0</td>\n",
       "      <td>0</td>\n",
       "      <td>0</td>\n",
       "      <td>0</td>\n",
       "      <td>0</td>\n",
       "      <td>0.0</td>\n",
       "      <td>0.0</td>\n",
       "    </tr>\n",
       "    <tr>\n",
       "      <th>49433</th>\n",
       "      <td>Zzish</td>\n",
       "      <td>Education</td>\n",
       "      <td>320000.0</td>\n",
       "      <td>1</td>\n",
       "      <td>GBR</td>\n",
       "      <td>1.0</td>\n",
       "      <td>2013</td>\n",
       "      <td>320000</td>\n",
       "      <td>0</td>\n",
       "      <td>0</td>\n",
       "      <td>...</td>\n",
       "      <td>0</td>\n",
       "      <td>0</td>\n",
       "      <td>0</td>\n",
       "      <td>0</td>\n",
       "      <td>0</td>\n",
       "      <td>0</td>\n",
       "      <td>0</td>\n",
       "      <td>0</td>\n",
       "      <td>0.0</td>\n",
       "      <td>0.0</td>\n",
       "    </tr>\n",
       "    <tr>\n",
       "      <th>49435</th>\n",
       "      <td>Zzzzapp Wireless ltd.</td>\n",
       "      <td>Web Development</td>\n",
       "      <td>97398.0</td>\n",
       "      <td>1</td>\n",
       "      <td>HRV</td>\n",
       "      <td>5.0</td>\n",
       "      <td>2012</td>\n",
       "      <td>71525</td>\n",
       "      <td>0</td>\n",
       "      <td>0</td>\n",
       "      <td>...</td>\n",
       "      <td>0</td>\n",
       "      <td>0</td>\n",
       "      <td>0</td>\n",
       "      <td>0</td>\n",
       "      <td>0</td>\n",
       "      <td>0</td>\n",
       "      <td>0</td>\n",
       "      <td>0</td>\n",
       "      <td>0.0</td>\n",
       "      <td>0.0</td>\n",
       "    </tr>\n",
       "    <tr>\n",
       "      <th>49437</th>\n",
       "      <td>[x+1]</td>\n",
       "      <td>Enterprise Software</td>\n",
       "      <td>45000000.0</td>\n",
       "      <td>1</td>\n",
       "      <td>USA</td>\n",
       "      <td>4.0</td>\n",
       "      <td>1999</td>\n",
       "      <td>0</td>\n",
       "      <td>28000000</td>\n",
       "      <td>0</td>\n",
       "      <td>...</td>\n",
       "      <td>0</td>\n",
       "      <td>0</td>\n",
       "      <td>16000000</td>\n",
       "      <td>10000000</td>\n",
       "      <td>0</td>\n",
       "      <td>0</td>\n",
       "      <td>0</td>\n",
       "      <td>0</td>\n",
       "      <td>0.0</td>\n",
       "      <td>0.0</td>\n",
       "    </tr>\n",
       "  </tbody>\n",
       "</table>\n",
       "<p>33060 rows × 27 columns</p>\n",
       "</div>"
      ],
      "text/plain": [
       "                        name                 market  total_funding status  \\\n",
       "0                   #waywire                  News       1750000.0      1   \n",
       "2          'Rock' Your Paper            Publishing         40000.0      1   \n",
       "3          (In)Touch Network           Electronics       1500000.0      1   \n",
       "4         -R- Ranch and Mine               Tourism         60000.0      1   \n",
       "8           004 Technologies              Software             0.0      1   \n",
       "...                      ...                    ...            ...    ...   \n",
       "49430       Zyraz Technology         Biotechnology      15419877.0      0   \n",
       "49432             Zytoprotec         Biotechnology       2686600.0      1   \n",
       "49433                  Zzish             Education        320000.0      1   \n",
       "49435  Zzzzapp Wireless ltd.       Web Development         97398.0      1   \n",
       "49437                  [x+1]   Enterprise Software      45000000.0      1   \n",
       "\n",
       "      country_code funding_rounds  founded_year     seed   venture  \\\n",
       "0              USA              1          2012  1750000         0   \n",
       "2              EST              1          2012    40000         0   \n",
       "3              GBR              1          2011  1500000         0   \n",
       "4              USA              2          2014        0         0   \n",
       "8              USA              1          2010        0         0   \n",
       "...            ...            ...           ...      ...       ...   \n",
       "49430          MYS            4.0          1994        0   7991547   \n",
       "49432          AUT            1.0          2007        0   2686600   \n",
       "49433          GBR            1.0          2013   320000         0   \n",
       "49435          HRV            5.0          2012    71525         0   \n",
       "49437          USA            4.0          1999        0  28000000   \n",
       "\n",
       "       equity_crowdfunding  ...  secondary_market  product_crowdfunding  \\\n",
       "0                        0  ...                 0                     0   \n",
       "2                        0  ...                 0                     0   \n",
       "3                        0  ...                 0                     0   \n",
       "4                    60000  ...                 0                     0   \n",
       "8                        0  ...                 0                     0   \n",
       "...                    ...  ...               ...                   ...   \n",
       "49430                    0  ...                 0                     0   \n",
       "49432                    0  ...                 0                     0   \n",
       "49433                    0  ...                 0                     0   \n",
       "49435                    0  ...                 0                     0   \n",
       "49437                    0  ...                 0                     0   \n",
       "\n",
       "        round_A   round_B  round_C  round_D  round_E  round_F  round_G  \\\n",
       "0             0         0        0        0        0        0      0.0   \n",
       "2             0         0        0        0        0        0      0.0   \n",
       "3             0         0        0        0        0        0      0.0   \n",
       "4             0         0        0        0        0        0      0.0   \n",
       "8             0         0        0        0        0        0      0.0   \n",
       "...         ...       ...      ...      ...      ...      ...      ...   \n",
       "49430   7991547         0        0        0        0        0      0.0   \n",
       "49432   2686600         0        0        0        0        0      0.0   \n",
       "49433         0         0        0        0        0        0      0.0   \n",
       "49435         0         0        0        0        0        0      0.0   \n",
       "49437  16000000  10000000        0        0        0        0      0.0   \n",
       "\n",
       "       round_H  \n",
       "0          0.0  \n",
       "2          0.0  \n",
       "3          0.0  \n",
       "4          0.0  \n",
       "8          0.0  \n",
       "...        ...  \n",
       "49430      0.0  \n",
       "49432      0.0  \n",
       "49433      0.0  \n",
       "49435      0.0  \n",
       "49437      0.0  \n",
       "\n",
       "[33060 rows x 27 columns]"
      ]
     },
     "execution_count": 27,
     "metadata": {},
     "output_type": "execute_result"
    }
   ],
   "source": [
    "startups_df"
   ]
  },
  {
   "cell_type": "code",
   "execution_count": 28,
   "id": "50adcb99-c969-45db-834f-315ac5b0e4d8",
   "metadata": {},
   "outputs": [
    {
     "data": {
      "text/html": [
       "<div>\n",
       "<style scoped>\n",
       "    .dataframe tbody tr th:only-of-type {\n",
       "        vertical-align: middle;\n",
       "    }\n",
       "\n",
       "    .dataframe tbody tr th {\n",
       "        vertical-align: top;\n",
       "    }\n",
       "\n",
       "    .dataframe thead th {\n",
       "        text-align: right;\n",
       "    }\n",
       "</style>\n",
       "<table border=\"1\" class=\"dataframe\">\n",
       "  <thead>\n",
       "    <tr style=\"text-align: right;\">\n",
       "      <th></th>\n",
       "      <th>name</th>\n",
       "      <th>market</th>\n",
       "      <th>total_funding</th>\n",
       "      <th>status</th>\n",
       "      <th>country_code</th>\n",
       "      <th>funding_rounds</th>\n",
       "      <th>founded_year</th>\n",
       "      <th>seed</th>\n",
       "      <th>venture</th>\n",
       "      <th>equity_crowdfunding</th>\n",
       "      <th>...</th>\n",
       "      <th>secondary_market</th>\n",
       "      <th>product_crowdfunding</th>\n",
       "      <th>round_A</th>\n",
       "      <th>round_B</th>\n",
       "      <th>round_C</th>\n",
       "      <th>round_D</th>\n",
       "      <th>round_E</th>\n",
       "      <th>round_F</th>\n",
       "      <th>round_G</th>\n",
       "      <th>round_H</th>\n",
       "    </tr>\n",
       "  </thead>\n",
       "  <tbody>\n",
       "    <tr>\n",
       "      <th>0</th>\n",
       "      <td>#waywire</td>\n",
       "      <td>News</td>\n",
       "      <td>1750000.0</td>\n",
       "      <td>1</td>\n",
       "      <td>USA</td>\n",
       "      <td>1</td>\n",
       "      <td>2012</td>\n",
       "      <td>1750000</td>\n",
       "      <td>0</td>\n",
       "      <td>0</td>\n",
       "      <td>...</td>\n",
       "      <td>0</td>\n",
       "      <td>0</td>\n",
       "      <td>0</td>\n",
       "      <td>0</td>\n",
       "      <td>0</td>\n",
       "      <td>0</td>\n",
       "      <td>0</td>\n",
       "      <td>0</td>\n",
       "      <td>0.0</td>\n",
       "      <td>0.0</td>\n",
       "    </tr>\n",
       "    <tr>\n",
       "      <th>2</th>\n",
       "      <td>'Rock' Your Paper</td>\n",
       "      <td>Publishing</td>\n",
       "      <td>40000.0</td>\n",
       "      <td>1</td>\n",
       "      <td>EST</td>\n",
       "      <td>1</td>\n",
       "      <td>2012</td>\n",
       "      <td>40000</td>\n",
       "      <td>0</td>\n",
       "      <td>0</td>\n",
       "      <td>...</td>\n",
       "      <td>0</td>\n",
       "      <td>0</td>\n",
       "      <td>0</td>\n",
       "      <td>0</td>\n",
       "      <td>0</td>\n",
       "      <td>0</td>\n",
       "      <td>0</td>\n",
       "      <td>0</td>\n",
       "      <td>0.0</td>\n",
       "      <td>0.0</td>\n",
       "    </tr>\n",
       "    <tr>\n",
       "      <th>3</th>\n",
       "      <td>(In)Touch Network</td>\n",
       "      <td>Electronics</td>\n",
       "      <td>1500000.0</td>\n",
       "      <td>1</td>\n",
       "      <td>GBR</td>\n",
       "      <td>1</td>\n",
       "      <td>2011</td>\n",
       "      <td>1500000</td>\n",
       "      <td>0</td>\n",
       "      <td>0</td>\n",
       "      <td>...</td>\n",
       "      <td>0</td>\n",
       "      <td>0</td>\n",
       "      <td>0</td>\n",
       "      <td>0</td>\n",
       "      <td>0</td>\n",
       "      <td>0</td>\n",
       "      <td>0</td>\n",
       "      <td>0</td>\n",
       "      <td>0.0</td>\n",
       "      <td>0.0</td>\n",
       "    </tr>\n",
       "    <tr>\n",
       "      <th>4</th>\n",
       "      <td>-R- Ranch and Mine</td>\n",
       "      <td>Tourism</td>\n",
       "      <td>60000.0</td>\n",
       "      <td>1</td>\n",
       "      <td>USA</td>\n",
       "      <td>2</td>\n",
       "      <td>2014</td>\n",
       "      <td>0</td>\n",
       "      <td>0</td>\n",
       "      <td>60000</td>\n",
       "      <td>...</td>\n",
       "      <td>0</td>\n",
       "      <td>0</td>\n",
       "      <td>0</td>\n",
       "      <td>0</td>\n",
       "      <td>0</td>\n",
       "      <td>0</td>\n",
       "      <td>0</td>\n",
       "      <td>0</td>\n",
       "      <td>0.0</td>\n",
       "      <td>0.0</td>\n",
       "    </tr>\n",
       "    <tr>\n",
       "      <th>8</th>\n",
       "      <td>004 Technologies</td>\n",
       "      <td>Software</td>\n",
       "      <td>0.0</td>\n",
       "      <td>1</td>\n",
       "      <td>USA</td>\n",
       "      <td>1</td>\n",
       "      <td>2010</td>\n",
       "      <td>0</td>\n",
       "      <td>0</td>\n",
       "      <td>0</td>\n",
       "      <td>...</td>\n",
       "      <td>0</td>\n",
       "      <td>0</td>\n",
       "      <td>0</td>\n",
       "      <td>0</td>\n",
       "      <td>0</td>\n",
       "      <td>0</td>\n",
       "      <td>0</td>\n",
       "      <td>0</td>\n",
       "      <td>0.0</td>\n",
       "      <td>0.0</td>\n",
       "    </tr>\n",
       "    <tr>\n",
       "      <th>...</th>\n",
       "      <td>...</td>\n",
       "      <td>...</td>\n",
       "      <td>...</td>\n",
       "      <td>...</td>\n",
       "      <td>...</td>\n",
       "      <td>...</td>\n",
       "      <td>...</td>\n",
       "      <td>...</td>\n",
       "      <td>...</td>\n",
       "      <td>...</td>\n",
       "      <td>...</td>\n",
       "      <td>...</td>\n",
       "      <td>...</td>\n",
       "      <td>...</td>\n",
       "      <td>...</td>\n",
       "      <td>...</td>\n",
       "      <td>...</td>\n",
       "      <td>...</td>\n",
       "      <td>...</td>\n",
       "      <td>...</td>\n",
       "      <td>...</td>\n",
       "    </tr>\n",
       "    <tr>\n",
       "      <th>49430</th>\n",
       "      <td>Zyraz Technology</td>\n",
       "      <td>Biotechnology</td>\n",
       "      <td>15419877.0</td>\n",
       "      <td>0</td>\n",
       "      <td>MYS</td>\n",
       "      <td>4.0</td>\n",
       "      <td>1994</td>\n",
       "      <td>0</td>\n",
       "      <td>7991547</td>\n",
       "      <td>0</td>\n",
       "      <td>...</td>\n",
       "      <td>0</td>\n",
       "      <td>0</td>\n",
       "      <td>7991547</td>\n",
       "      <td>0</td>\n",
       "      <td>0</td>\n",
       "      <td>0</td>\n",
       "      <td>0</td>\n",
       "      <td>0</td>\n",
       "      <td>0.0</td>\n",
       "      <td>0.0</td>\n",
       "    </tr>\n",
       "    <tr>\n",
       "      <th>49432</th>\n",
       "      <td>Zytoprotec</td>\n",
       "      <td>Biotechnology</td>\n",
       "      <td>2686600.0</td>\n",
       "      <td>1</td>\n",
       "      <td>AUT</td>\n",
       "      <td>1.0</td>\n",
       "      <td>2007</td>\n",
       "      <td>0</td>\n",
       "      <td>2686600</td>\n",
       "      <td>0</td>\n",
       "      <td>...</td>\n",
       "      <td>0</td>\n",
       "      <td>0</td>\n",
       "      <td>2686600</td>\n",
       "      <td>0</td>\n",
       "      <td>0</td>\n",
       "      <td>0</td>\n",
       "      <td>0</td>\n",
       "      <td>0</td>\n",
       "      <td>0.0</td>\n",
       "      <td>0.0</td>\n",
       "    </tr>\n",
       "    <tr>\n",
       "      <th>49433</th>\n",
       "      <td>Zzish</td>\n",
       "      <td>Education</td>\n",
       "      <td>320000.0</td>\n",
       "      <td>1</td>\n",
       "      <td>GBR</td>\n",
       "      <td>1.0</td>\n",
       "      <td>2013</td>\n",
       "      <td>320000</td>\n",
       "      <td>0</td>\n",
       "      <td>0</td>\n",
       "      <td>...</td>\n",
       "      <td>0</td>\n",
       "      <td>0</td>\n",
       "      <td>0</td>\n",
       "      <td>0</td>\n",
       "      <td>0</td>\n",
       "      <td>0</td>\n",
       "      <td>0</td>\n",
       "      <td>0</td>\n",
       "      <td>0.0</td>\n",
       "      <td>0.0</td>\n",
       "    </tr>\n",
       "    <tr>\n",
       "      <th>49435</th>\n",
       "      <td>Zzzzapp Wireless ltd.</td>\n",
       "      <td>Web Development</td>\n",
       "      <td>97398.0</td>\n",
       "      <td>1</td>\n",
       "      <td>HRV</td>\n",
       "      <td>5.0</td>\n",
       "      <td>2012</td>\n",
       "      <td>71525</td>\n",
       "      <td>0</td>\n",
       "      <td>0</td>\n",
       "      <td>...</td>\n",
       "      <td>0</td>\n",
       "      <td>0</td>\n",
       "      <td>0</td>\n",
       "      <td>0</td>\n",
       "      <td>0</td>\n",
       "      <td>0</td>\n",
       "      <td>0</td>\n",
       "      <td>0</td>\n",
       "      <td>0.0</td>\n",
       "      <td>0.0</td>\n",
       "    </tr>\n",
       "    <tr>\n",
       "      <th>49437</th>\n",
       "      <td>[x+1]</td>\n",
       "      <td>Enterprise Software</td>\n",
       "      <td>45000000.0</td>\n",
       "      <td>1</td>\n",
       "      <td>USA</td>\n",
       "      <td>4.0</td>\n",
       "      <td>1999</td>\n",
       "      <td>0</td>\n",
       "      <td>28000000</td>\n",
       "      <td>0</td>\n",
       "      <td>...</td>\n",
       "      <td>0</td>\n",
       "      <td>0</td>\n",
       "      <td>16000000</td>\n",
       "      <td>10000000</td>\n",
       "      <td>0</td>\n",
       "      <td>0</td>\n",
       "      <td>0</td>\n",
       "      <td>0</td>\n",
       "      <td>0.0</td>\n",
       "      <td>0.0</td>\n",
       "    </tr>\n",
       "  </tbody>\n",
       "</table>\n",
       "<p>33060 rows × 27 columns</p>\n",
       "</div>"
      ],
      "text/plain": [
       "                        name                 market  total_funding status  \\\n",
       "0                   #waywire                  News       1750000.0      1   \n",
       "2          'Rock' Your Paper            Publishing         40000.0      1   \n",
       "3          (In)Touch Network           Electronics       1500000.0      1   \n",
       "4         -R- Ranch and Mine               Tourism         60000.0      1   \n",
       "8           004 Technologies              Software             0.0      1   \n",
       "...                      ...                    ...            ...    ...   \n",
       "49430       Zyraz Technology         Biotechnology      15419877.0      0   \n",
       "49432             Zytoprotec         Biotechnology       2686600.0      1   \n",
       "49433                  Zzish             Education        320000.0      1   \n",
       "49435  Zzzzapp Wireless ltd.       Web Development         97398.0      1   \n",
       "49437                  [x+1]   Enterprise Software      45000000.0      1   \n",
       "\n",
       "      country_code funding_rounds  founded_year     seed   venture  \\\n",
       "0              USA              1          2012  1750000         0   \n",
       "2              EST              1          2012    40000         0   \n",
       "3              GBR              1          2011  1500000         0   \n",
       "4              USA              2          2014        0         0   \n",
       "8              USA              1          2010        0         0   \n",
       "...            ...            ...           ...      ...       ...   \n",
       "49430          MYS            4.0          1994        0   7991547   \n",
       "49432          AUT            1.0          2007        0   2686600   \n",
       "49433          GBR            1.0          2013   320000         0   \n",
       "49435          HRV            5.0          2012    71525         0   \n",
       "49437          USA            4.0          1999        0  28000000   \n",
       "\n",
       "       equity_crowdfunding  ...  secondary_market  product_crowdfunding  \\\n",
       "0                        0  ...                 0                     0   \n",
       "2                        0  ...                 0                     0   \n",
       "3                        0  ...                 0                     0   \n",
       "4                    60000  ...                 0                     0   \n",
       "8                        0  ...                 0                     0   \n",
       "...                    ...  ...               ...                   ...   \n",
       "49430                    0  ...                 0                     0   \n",
       "49432                    0  ...                 0                     0   \n",
       "49433                    0  ...                 0                     0   \n",
       "49435                    0  ...                 0                     0   \n",
       "49437                    0  ...                 0                     0   \n",
       "\n",
       "        round_A   round_B  round_C  round_D  round_E  round_F  round_G  \\\n",
       "0             0         0        0        0        0        0      0.0   \n",
       "2             0         0        0        0        0        0      0.0   \n",
       "3             0         0        0        0        0        0      0.0   \n",
       "4             0         0        0        0        0        0      0.0   \n",
       "8             0         0        0        0        0        0      0.0   \n",
       "...         ...       ...      ...      ...      ...      ...      ...   \n",
       "49430   7991547         0        0        0        0        0      0.0   \n",
       "49432   2686600         0        0        0        0        0      0.0   \n",
       "49433         0         0        0        0        0        0      0.0   \n",
       "49435         0         0        0        0        0        0      0.0   \n",
       "49437  16000000  10000000        0        0        0        0      0.0   \n",
       "\n",
       "       round_H  \n",
       "0          0.0  \n",
       "2          0.0  \n",
       "3          0.0  \n",
       "4          0.0  \n",
       "8          0.0  \n",
       "...        ...  \n",
       "49430      0.0  \n",
       "49432      0.0  \n",
       "49433      0.0  \n",
       "49435      0.0  \n",
       "49437      0.0  \n",
       "\n",
       "[33060 rows x 27 columns]"
      ]
     },
     "execution_count": 28,
     "metadata": {},
     "output_type": "execute_result"
    }
   ],
   "source": [
    "startups_df"
   ]
  },
  {
   "cell_type": "code",
   "execution_count": 29,
   "id": "b88ea7a0-b2a0-47aa-a344-3c5bc808d562",
   "metadata": {},
   "outputs": [],
   "source": [
    "#year should be an object string and funding rounds should be number\n",
    "startups_df = startups_df.astype({\"status\":\"int\"})\n",
    "startups_df = startups_df.astype({\"funding_rounds\":\"int\"})\n",
    "startups_df = startups_df.astype({\"founded_year\":\"str\"})"
   ]
  },
  {
   "cell_type": "code",
   "execution_count": 30,
   "id": "259ac68f-f656-4b4c-827d-b572587e16fa",
   "metadata": {},
   "outputs": [
    {
     "name": "stdout",
     "output_type": "stream",
     "text": [
      "<class 'pandas.core.frame.DataFrame'>\n",
      "Int64Index: 33060 entries, 0 to 49437\n",
      "Data columns (total 27 columns):\n",
      " #   Column                Non-Null Count  Dtype  \n",
      "---  ------                --------------  -----  \n",
      " 0   name                  33060 non-null  object \n",
      " 1   market                33060 non-null  object \n",
      " 2   total_funding         33060 non-null  float64\n",
      " 3   status                33060 non-null  int32  \n",
      " 4   country_code          33060 non-null  object \n",
      " 5   funding_rounds        33060 non-null  int32  \n",
      " 6   founded_year          33060 non-null  object \n",
      " 7   seed                  33060 non-null  int64  \n",
      " 8   venture               33060 non-null  int64  \n",
      " 9   equity_crowdfunding   33060 non-null  int64  \n",
      " 10  convertible_note      33060 non-null  int64  \n",
      " 11  debt_financing        33060 non-null  int64  \n",
      " 12  angel                 33060 non-null  int64  \n",
      " 13  grant                 33060 non-null  int64  \n",
      " 14  private_equity        33060 non-null  int64  \n",
      " 15  post_ipo_equity       33060 non-null  int64  \n",
      " 16  post_ipo_debt         33060 non-null  int64  \n",
      " 17  secondary_market      33060 non-null  int64  \n",
      " 18  product_crowdfunding  33060 non-null  int64  \n",
      " 19  round_A               33060 non-null  int64  \n",
      " 20  round_B               33060 non-null  int64  \n",
      " 21  round_C               33060 non-null  int64  \n",
      " 22  round_D               33060 non-null  int64  \n",
      " 23  round_E               33060 non-null  int64  \n",
      " 24  round_F               33060 non-null  int64  \n",
      " 25  round_G               33060 non-null  float64\n",
      " 26  round_H               33060 non-null  float64\n",
      "dtypes: float64(3), int32(2), int64(18), object(4)\n",
      "memory usage: 6.8+ MB\n"
     ]
    }
   ],
   "source": [
    "startups_df.info()"
   ]
  },
  {
   "cell_type": "code",
   "execution_count": 31,
   "id": "851c5a61-28f3-4508-b5a9-69bf49bf86be",
   "metadata": {},
   "outputs": [],
   "source": [
    "\n",
    "#classification problem so use logistic regression, knn classifying, decision trees see which is best finish by sunday"
   ]
  },
  {
   "cell_type": "code",
   "execution_count": 32,
   "id": "4a94e9e3-d8c9-4378-8c43-5607a0d8b72a",
   "metadata": {},
   "outputs": [],
   "source": [
    "import matplotlib.pyplot as plt\n",
    "import numpy as np\n",
    "import pandas as pd\n",
    "import seaborn as sns\n",
    "\n",
    "from sklearn.model_selection import train_test_split\n",
    "from sklearn.pipeline import Pipeline\n",
    "from sklearn.compose import make_column_transformer\n",
    "from sklearn.neighbors import KNeighborsClassifier\n",
    "from sklearn.preprocessing import OneHotEncoder, StandardScaler, PolynomialFeatures\n",
    "from sklearn.datasets import make_blobs\n",
    "from sklearn import set_config\n",
    "set_config('display')"
   ]
  },
  {
   "cell_type": "code",
   "execution_count": 210,
   "id": "1e1c0614-57c7-4897-8bfa-f972b12df740",
   "metadata": {},
   "outputs": [],
   "source": [
    "#classification by using K-Nearest Neighbors algorithm\n",
    "cat_cols = [\"market\",\"country_code\",\"founded_year\"]\n",
    "num_cols = [\"total_funding\",\"funding_rounds\",\"seed\", \"venture\",\"equity_crowdfunding\",\"convertible_note\",\"debt_financing\",\"angel\",\"grant\",\"private_equity\",\n",
    "           \"post_ipo_equity\",\"post_ipo_debt\",\"secondary_market\",\"product_crowdfunding\",\"round_A\",\"round_B\",\"round_C\",\"round_D\",\"round_E\",\"round_F\",\n",
    "           \"round_G\",\"round_H\"]\n",
    "\n",
    "    \n",
    "X = startups_df.loc[:, cat_cols + num_cols]\n",
    "y = startups_df['status']\n",
    "\n",
    "#create OHE\n",
    "ohe = OneHotEncoder(sparse = False, drop = 'first',handle_unknown = 'ignore')\n",
    "#transformer\n",
    "encoder = make_column_transformer((ohe, cat_cols), remainder=StandardScaler())"
   ]
  },
  {
   "cell_type": "code",
   "execution_count": 212,
   "id": "1e8b8708-a730-411f-8438-ef9fd6ecd9ca",
   "metadata": {},
   "outputs": [
    {
     "data": {
      "text/plain": [
       "25"
      ]
     },
     "execution_count": 212,
     "metadata": {},
     "output_type": "execute_result"
    }
   ],
   "source": [
    "len(num_cols)+len(cat_cols)"
   ]
  },
  {
   "cell_type": "code",
   "execution_count": 181,
   "id": "e39ac301-c96c-4740-9ccc-de18573efa42",
   "metadata": {},
   "outputs": [
    {
     "data": {
      "text/plain": [
       "886"
      ]
     },
     "execution_count": 181,
     "metadata": {},
     "output_type": "execute_result"
    }
   ],
   "source": [
    "onehot_encoder = OneHotEncoder(sparse=False, drop = 'first',handle_unknown = 'ignore')\n",
    "encoder_name = make_column_transformer((onehot_encoder, cat_cols))\n",
    "X_train_encoded_name = encoder_name.fit_transform(X_train)\n",
    "feature_names = encoder_name.get_feature_names_out()\n",
    "len(feature_names)"
   ]
  },
  {
   "cell_type": "code",
   "execution_count": 34,
   "id": "29bd2118-54e3-4310-8e4d-3f483c225842",
   "metadata": {},
   "outputs": [
    {
     "data": {
      "text/plain": [
       "ColumnTransformer(remainder=StandardScaler(),\n",
       "                  transformers=[('onehotencoder',\n",
       "                                 OneHotEncoder(drop='first',\n",
       "                                               handle_unknown='ignore',\n",
       "                                               sparse=False),\n",
       "                                 ['market', 'country_code', 'founded_year'])])"
      ]
     },
     "execution_count": 34,
     "metadata": {},
     "output_type": "execute_result"
    }
   ],
   "source": [
    "\n",
    "encoder"
   ]
  },
  {
   "cell_type": "code",
   "execution_count": null,
   "id": "63376818-d078-4fd8-9823-cc30bc425971",
   "metadata": {},
   "outputs": [],
   "source": []
  },
  {
   "cell_type": "code",
   "execution_count": 47,
   "id": "a4043f76-d949-44c9-91ee-6731aa78983c",
   "metadata": {},
   "outputs": [],
   "source": [
    "# Here we use the oversampling method to balance the dataset as the dataset was 95% 1's and 5% 0's\n",
    "from imblearn.over_sampling import RandomOverSampler\n",
    "\n",
    "ros = RandomOverSampler(random_state=22)\n",
    "X_resampled, y_resampled = ros.fit_resample(X, y)\n",
    "X_train, X_test, y_train, y_test = train_test_split(X_resampled, y_resampled, random_state = 22)\n"
   ]
  },
  {
   "cell_type": "code",
   "execution_count": 48,
   "id": "94493aa2-cc3b-4ccb-aefb-40c5c1e14cd0",
   "metadata": {},
   "outputs": [
    {
     "data": {
      "text/plain": [
       "0    23531\n",
       "1    23489\n",
       "Name: status, dtype: int64"
      ]
     },
     "execution_count": 48,
     "metadata": {},
     "output_type": "execute_result"
    }
   ],
   "source": [
    "X_train\n",
    "y_train.value_counts()"
   ]
  },
  {
   "cell_type": "code",
   "execution_count": 49,
   "id": "17787aeb-4388-4d04-bd80-817c4e53a9bc",
   "metadata": {},
   "outputs": [
    {
     "data": {
      "text/plain": [
       "1    7858\n",
       "0    7816\n",
       "Name: status, dtype: int64"
      ]
     },
     "execution_count": 49,
     "metadata": {},
     "output_type": "execute_result"
    }
   ],
   "source": [
    "y_test.value_counts()"
   ]
  },
  {
   "cell_type": "code",
   "execution_count": 50,
   "id": "09434b05-a46e-4ddf-b98e-a854161e8db1",
   "metadata": {},
   "outputs": [
    {
     "name": "stderr",
     "output_type": "stream",
     "text": [
      "C:\\Users\\user\\anaconda3\\lib\\site-packages\\sklearn\\preprocessing\\_encoders.py:170: UserWarning: Found unknown categories in columns [0, 1, 2] during transform. These unknown categories will be encoded as all zeros\n",
      "  warnings.warn(\n"
     ]
    }
   ],
   "source": [
    "#fit and transform train\n",
    "X_train_encoded = encoder.fit_transform(X_train)\n",
    "X_train_encoded\n",
    "X_test_encoded = encoder.transform(X_test)"
   ]
  },
  {
   "cell_type": "code",
   "execution_count": 51,
   "id": "f1363edc-964c-4acc-921d-c7c63f02865c",
   "metadata": {},
   "outputs": [
    {
     "name": "stderr",
     "output_type": "stream",
     "text": [
      "C:\\Users\\user\\anaconda3\\lib\\site-packages\\sklearn\\preprocessing\\_encoders.py:170: UserWarning: Found unknown categories in columns [0, 1, 2] during transform. These unknown categories will be encoded as all zeros\n",
      "  warnings.warn(\n"
     ]
    }
   ],
   "source": [
    "#transform the the test\n",
    "X_test_encoded = encoder.transform(X_test)\n"
   ]
  },
  {
   "cell_type": "code",
   "execution_count": 149,
   "id": "bcaf876f-d119-4cad-a148-2307460d522b",
   "metadata": {},
   "outputs": [],
   "source": [
    "#instantiate the KNN estimator\n",
    "knn = KNeighborsClassifier(n_neighbors=5)"
   ]
  },
  {
   "cell_type": "markdown",
   "id": "227c8431-c9d6-44f9-b4f9-b4129060cd79",
   "metadata": {},
   "source": [
    "# This is our baseline a 50% accuracy that we will use to determine if our model did better or worse"
   ]
  },
  {
   "cell_type": "code",
   "execution_count": 155,
   "id": "9df76770-0e70-485b-aa27-ed0ee6a876ac",
   "metadata": {},
   "outputs": [
    {
     "data": {
      "text/plain": [
       "0    0.500447\n",
       "1    0.499553\n",
       "Name: status, dtype: float64"
      ]
     },
     "execution_count": 155,
     "metadata": {},
     "output_type": "execute_result"
    }
   ],
   "source": [
    "y_train.value_counts(normalize = True)"
   ]
  },
  {
   "cell_type": "code",
   "execution_count": 151,
   "id": "866e9f91-285d-401e-bb0b-5d428fbcda92",
   "metadata": {},
   "outputs": [],
   "source": [
    "#create a Pipeline\n",
    "pipe = Pipeline([('encode', encoder), ('knn', knn)])\n"
   ]
  },
  {
   "cell_type": "code",
   "execution_count": 152,
   "id": "1a0439a4-2d85-4754-81bb-90a92c8b269b",
   "metadata": {},
   "outputs": [
    {
     "data": {
      "text/plain": [
       "Pipeline(steps=[('encode',\n",
       "                 ColumnTransformer(remainder=StandardScaler(),\n",
       "                                   transformers=[('onehotencoder',\n",
       "                                                  OneHotEncoder(drop='first',\n",
       "                                                                handle_unknown='ignore',\n",
       "                                                                sparse=False),\n",
       "                                                  ['market', 'country_code',\n",
       "                                                   'founded_year'])])),\n",
       "                ('knn', KNeighborsClassifier())])"
      ]
     },
     "execution_count": 152,
     "metadata": {},
     "output_type": "execute_result"
    }
   ],
   "source": [
    "#Using a pipeline \n",
    "pipe.fit(X_train, y_train)"
   ]
  },
  {
   "cell_type": "code",
   "execution_count": 153,
   "id": "aff072aa-f34a-46af-ad61-d7e428e9cc83",
   "metadata": {},
   "outputs": [
    {
     "data": {
      "text/plain": [
       "0.9294980859208847"
      ]
     },
     "execution_count": 153,
     "metadata": {},
     "output_type": "execute_result"
    }
   ],
   "source": [
    "pipe.score(X_train, y_train)"
   ]
  },
  {
   "cell_type": "code",
   "execution_count": 154,
   "id": "9d0e8e7c-886b-41af-b486-8da32adf53b0",
   "metadata": {},
   "outputs": [
    {
     "name": "stderr",
     "output_type": "stream",
     "text": [
      "C:\\Users\\user\\anaconda3\\lib\\site-packages\\sklearn\\preprocessing\\_encoders.py:170: UserWarning: Found unknown categories in columns [0, 1, 2] during transform. These unknown categories will be encoded as all zeros\n",
      "  warnings.warn(\n"
     ]
    },
    {
     "data": {
      "text/plain": [
       "0.904172514992982"
      ]
     },
     "execution_count": 154,
     "metadata": {},
     "output_type": "execute_result"
    }
   ],
   "source": [
    "pipe.score(X_test, y_test)"
   ]
  },
  {
   "cell_type": "markdown",
   "id": "7fcacf5d-a779-40ff-8610-7aa7efd2d6e2",
   "metadata": {},
   "source": [
    "When using a KNN model with n=5 neighbors, we see that our model accurately predicted around 93% of the training data set and 90.4% of the testing data set. This is significantly better than our baseline of simply guessing with a 50% chance. Next, we will proceed to use a logistic classification model then use a grid search to find the best features to use to improve our KNN model."
   ]
  },
  {
   "cell_type": "code",
   "execution_count": 156,
   "id": "40cec149-b036-4cb0-862c-4fed975e0e5e",
   "metadata": {},
   "outputs": [],
   "source": [
    "#logistic regression model\n",
    "#classification problem \n",
    "from sklearn.linear_model import LogisticRegression\n",
    "clf = LogisticRegression(max_iter=500)"
   ]
  },
  {
   "cell_type": "code",
   "execution_count": 186,
   "id": "33ddef6c-f626-4f14-a0dd-41fcc8c0df12",
   "metadata": {},
   "outputs": [],
   "source": [
    "clf = LogisticRegression(max_iter=500)\n",
    "logistic_pipe = Pipeline([('transform',encoder),('model',clf)])"
   ]
  },
  {
   "cell_type": "code",
   "execution_count": 187,
   "id": "195d42b5-655b-4924-b528-2fa66ac44ae3",
   "metadata": {},
   "outputs": [
    {
     "data": {
      "text/plain": [
       "Pipeline(steps=[('transform',\n",
       "                 ColumnTransformer(remainder=StandardScaler(),\n",
       "                                   transformers=[('onehotencoder',\n",
       "                                                  OneHotEncoder(drop='first',\n",
       "                                                                handle_unknown='ignore',\n",
       "                                                                sparse=False),\n",
       "                                                  ['market', 'country_code',\n",
       "                                                   'founded_year'])])),\n",
       "                ('model', LogisticRegression(max_iter=500))])"
      ]
     },
     "execution_count": 187,
     "metadata": {},
     "output_type": "execute_result"
    }
   ],
   "source": [
    "logistic_pipe.fit(X_train, y_train)"
   ]
  },
  {
   "cell_type": "code",
   "execution_count": 188,
   "id": "0270f7c8-4f37-485a-b936-a527124855fd",
   "metadata": {},
   "outputs": [
    {
     "name": "stdout",
     "output_type": "stream",
     "text": [
      "Train Score: 0.7272649936197363\n",
      "Test Score: 0.717366339160393 \n"
     ]
    },
    {
     "name": "stderr",
     "output_type": "stream",
     "text": [
      "C:\\Users\\user\\anaconda3\\lib\\site-packages\\sklearn\\preprocessing\\_encoders.py:170: UserWarning: Found unknown categories in columns [0, 1, 2] during transform. These unknown categories will be encoded as all zeros\n",
      "  warnings.warn(\n"
     ]
    }
   ],
   "source": [
    "#score on train and test\n",
    "print(f'Train Score: {logistic_pipe.score(X_train, y_train)}')\n",
    "print(f'Test Score: {logistic_pipe.score(X_test, y_test)} ')"
   ]
  },
  {
   "cell_type": "markdown",
   "id": "25994a47-87cc-4745-a7c0-8b0fe3964067",
   "metadata": {},
   "source": [
    "When using a logistic regression model, we see that our model accurately predicted around 72.7% of the training data set and 71.7% of the testing data set. While this is better than our baseline of simply guessing with a 50% chance, we see that its performance is behind using a KNN neighbor classifying model of 90.4% accuracy. Next, we will try to implement the knn model using both cross-validation and grid searching to see if we can tune our model to improve our accuracy. "
   ]
  },
  {
   "cell_type": "code",
   "execution_count": 73,
   "id": "9cc1952f-53c5-4c08-9892-d7e9871ccecf",
   "metadata": {},
   "outputs": [],
   "source": [
    "#Compare to Knn and grid searching\n",
    "from sklearn.model_selection import cross_val_score, train_test_split, GridSearchCV\n"
   ]
  },
  {
   "cell_type": "code",
   "execution_count": null,
   "id": "e00627dd-d02d-465a-818c-67106bd461e8",
   "metadata": {},
   "outputs": [],
   "source": [
    "#cross validate knn \n",
    "cv1 = cross_val_score(estimator = knn, X=X_train_encoded, y= y_train)\n",
    "\n"
   ]
  },
  {
   "cell_type": "code",
   "execution_count": 201,
   "id": "e104911a-b346-45b3-b373-54166649e38a",
   "metadata": {},
   "outputs": [
    {
     "name": "stdout",
     "output_type": "stream",
     "text": [
      "0.8864951084644831 0.0025738124073446567\n"
     ]
    }
   ],
   "source": [
    "print(cv1.mean(), cv1.std())"
   ]
  },
  {
   "cell_type": "code",
   "execution_count": 192,
   "id": "e5d51228-b9ed-40d6-873b-b9473469fc8d",
   "metadata": {},
   "outputs": [],
   "source": [
    "#knn with 10\n",
    "knn_10 = KNeighborsClassifier(n_neighbors = 10)\n"
   ]
  },
  {
   "cell_type": "code",
   "execution_count": 194,
   "id": "76a44edd-e152-4156-80b6-5e250eb5ea7c",
   "metadata": {},
   "outputs": [
    {
     "name": "stdout",
     "output_type": "stream",
     "text": [
      "0.8177371331348361 0.003197213181278804\n"
     ]
    }
   ],
   "source": [
    "cv2 = cross_val_score(estimator = knn_10, X=X_train_encoded, y= y_train)\n",
    "print(cv2.mean(), cv2.std())"
   ]
  },
  {
   "cell_type": "markdown",
   "id": "23308bd0-c1fd-4ffd-b75a-bb1d4e9a1ae9",
   "metadata": {},
   "source": [
    "Upon doing a cross-validation search to see whether a higher number of neighbors lead to a higher score we find that a lower n leads to a more accurate model with the cross-validation score for n=5 (88.6%) vs n=10 (81.77%). Then we can now use any number between 1 to 5 to grid search for the model as a lower n results in a more accurate model. "
   ]
  },
  {
   "cell_type": "code",
   "execution_count": 203,
   "id": "71f7b137-43b1-41b1-b38e-ce20ce65a040",
   "metadata": {},
   "outputs": [],
   "source": [
    "#Grid Search \n",
    "knn_params = {'n_neighbors': [1, 2, 3, 4, 5]}\n",
    "knn_base = KNeighborsClassifier()"
   ]
  },
  {
   "cell_type": "code",
   "execution_count": 204,
   "id": "1770092d-f280-4ffb-bbfa-e32d3d9dc204",
   "metadata": {},
   "outputs": [],
   "source": [
    "knn_grid = GridSearchCV(estimator = knn_base, param_grid = knn_params, cv = 5)"
   ]
  },
  {
   "cell_type": "code",
   "execution_count": 205,
   "id": "ff088334-8d39-4d45-95f2-44c9d1ca0cdd",
   "metadata": {},
   "outputs": [
    {
     "data": {
      "text/plain": [
       "GridSearchCV(cv=5, estimator=KNeighborsClassifier(),\n",
       "             param_grid={'n_neighbors': [1, 2, 3, 4, 5]})"
      ]
     },
     "execution_count": 205,
     "metadata": {},
     "output_type": "execute_result"
    }
   ],
   "source": [
    "knn_grid.fit(X_train_encoded, y_train)"
   ]
  },
  {
   "cell_type": "code",
   "execution_count": 206,
   "id": "059267a8-a87d-4e5f-ba24-42890d4f11e1",
   "metadata": {},
   "outputs": [
    {
     "data": {
      "text/plain": [
       "0.9890259464057848"
      ]
     },
     "execution_count": 206,
     "metadata": {},
     "output_type": "execute_result"
    }
   ],
   "source": [
    "#Score on the training data\n",
    "knn_grid.score(X_train_encoded, y_train)"
   ]
  },
  {
   "cell_type": "code",
   "execution_count": 207,
   "id": "17e415a7-b267-4330-b20e-dbdc5201b371",
   "metadata": {},
   "outputs": [
    {
     "data": {
      "text/html": [
       "<div>\n",
       "<style scoped>\n",
       "    .dataframe tbody tr th:only-of-type {\n",
       "        vertical-align: middle;\n",
       "    }\n",
       "\n",
       "    .dataframe tbody tr th {\n",
       "        vertical-align: top;\n",
       "    }\n",
       "\n",
       "    .dataframe thead th {\n",
       "        text-align: right;\n",
       "    }\n",
       "</style>\n",
       "<table border=\"1\" class=\"dataframe\">\n",
       "  <thead>\n",
       "    <tr style=\"text-align: right;\">\n",
       "      <th></th>\n",
       "      <th>mean_fit_time</th>\n",
       "      <th>std_fit_time</th>\n",
       "      <th>mean_score_time</th>\n",
       "      <th>std_score_time</th>\n",
       "      <th>param_n_neighbors</th>\n",
       "      <th>params</th>\n",
       "      <th>split0_test_score</th>\n",
       "      <th>split1_test_score</th>\n",
       "      <th>split2_test_score</th>\n",
       "      <th>split3_test_score</th>\n",
       "      <th>split4_test_score</th>\n",
       "      <th>mean_test_score</th>\n",
       "      <th>std_test_score</th>\n",
       "      <th>rank_test_score</th>\n",
       "    </tr>\n",
       "  </thead>\n",
       "  <tbody>\n",
       "    <tr>\n",
       "      <th>0</th>\n",
       "      <td>0.086931</td>\n",
       "      <td>0.013530</td>\n",
       "      <td>9.220819</td>\n",
       "      <td>0.177366</td>\n",
       "      <td>1</td>\n",
       "      <td>{'n_neighbors': 1}</td>\n",
       "      <td>0.943535</td>\n",
       "      <td>0.943216</td>\n",
       "      <td>0.940238</td>\n",
       "      <td>0.942790</td>\n",
       "      <td>0.950766</td>\n",
       "      <td>0.944109</td>\n",
       "      <td>0.003526</td>\n",
       "      <td>1</td>\n",
       "    </tr>\n",
       "    <tr>\n",
       "      <th>1</th>\n",
       "      <td>0.069788</td>\n",
       "      <td>0.004921</td>\n",
       "      <td>9.247300</td>\n",
       "      <td>0.199545</td>\n",
       "      <td>2</td>\n",
       "      <td>{'n_neighbors': 2}</td>\n",
       "      <td>0.906316</td>\n",
       "      <td>0.913016</td>\n",
       "      <td>0.908443</td>\n",
       "      <td>0.909932</td>\n",
       "      <td>0.913866</td>\n",
       "      <td>0.910315</td>\n",
       "      <td>0.002812</td>\n",
       "      <td>3</td>\n",
       "    </tr>\n",
       "    <tr>\n",
       "      <th>2</th>\n",
       "      <td>0.078610</td>\n",
       "      <td>0.004768</td>\n",
       "      <td>9.742089</td>\n",
       "      <td>0.285763</td>\n",
       "      <td>3</td>\n",
       "      <td>{'n_neighbors': 3}</td>\n",
       "      <td>0.909613</td>\n",
       "      <td>0.914398</td>\n",
       "      <td>0.908656</td>\n",
       "      <td>0.910251</td>\n",
       "      <td>0.916100</td>\n",
       "      <td>0.911803</td>\n",
       "      <td>0.002909</td>\n",
       "      <td>2</td>\n",
       "    </tr>\n",
       "    <tr>\n",
       "      <th>3</th>\n",
       "      <td>0.076092</td>\n",
       "      <td>0.008798</td>\n",
       "      <td>11.899127</td>\n",
       "      <td>0.353571</td>\n",
       "      <td>4</td>\n",
       "      <td>{'n_neighbors': 4}</td>\n",
       "      <td>0.883667</td>\n",
       "      <td>0.886750</td>\n",
       "      <td>0.879200</td>\n",
       "      <td>0.883773</td>\n",
       "      <td>0.888133</td>\n",
       "      <td>0.884305</td>\n",
       "      <td>0.003078</td>\n",
       "      <td>5</td>\n",
       "    </tr>\n",
       "    <tr>\n",
       "      <th>4</th>\n",
       "      <td>0.081002</td>\n",
       "      <td>0.011091</td>\n",
       "      <td>11.810024</td>\n",
       "      <td>0.120310</td>\n",
       "      <td>5</td>\n",
       "      <td>{'n_neighbors': 5}</td>\n",
       "      <td>0.885155</td>\n",
       "      <td>0.888558</td>\n",
       "      <td>0.882284</td>\n",
       "      <td>0.886963</td>\n",
       "      <td>0.889515</td>\n",
       "      <td>0.886495</td>\n",
       "      <td>0.002574</td>\n",
       "      <td>4</td>\n",
       "    </tr>\n",
       "  </tbody>\n",
       "</table>\n",
       "</div>"
      ],
      "text/plain": [
       "   mean_fit_time  std_fit_time  mean_score_time  std_score_time  \\\n",
       "0       0.086931      0.013530         9.220819        0.177366   \n",
       "1       0.069788      0.004921         9.247300        0.199545   \n",
       "2       0.078610      0.004768         9.742089        0.285763   \n",
       "3       0.076092      0.008798        11.899127        0.353571   \n",
       "4       0.081002      0.011091        11.810024        0.120310   \n",
       "\n",
       "  param_n_neighbors              params  split0_test_score  split1_test_score  \\\n",
       "0                 1  {'n_neighbors': 1}           0.943535           0.943216   \n",
       "1                 2  {'n_neighbors': 2}           0.906316           0.913016   \n",
       "2                 3  {'n_neighbors': 3}           0.909613           0.914398   \n",
       "3                 4  {'n_neighbors': 4}           0.883667           0.886750   \n",
       "4                 5  {'n_neighbors': 5}           0.885155           0.888558   \n",
       "\n",
       "   split2_test_score  split3_test_score  split4_test_score  mean_test_score  \\\n",
       "0           0.940238           0.942790           0.950766         0.944109   \n",
       "1           0.908443           0.909932           0.913866         0.910315   \n",
       "2           0.908656           0.910251           0.916100         0.911803   \n",
       "3           0.879200           0.883773           0.888133         0.884305   \n",
       "4           0.882284           0.886963           0.889515         0.886495   \n",
       "\n",
       "   std_test_score  rank_test_score  \n",
       "0        0.003526                1  \n",
       "1        0.002812                3  \n",
       "2        0.002909                2  \n",
       "3        0.003078                5  \n",
       "4        0.002574                4  "
      ]
     },
     "execution_count": 207,
     "metadata": {},
     "output_type": "execute_result"
    }
   ],
   "source": [
    "# See all results\n",
    "pd.DataFrame(knn_grid.cv_results_)"
   ]
  },
  {
   "cell_type": "code",
   "execution_count": 208,
   "id": "24eba5fe-aecf-4033-97ae-486b77d67f74",
   "metadata": {},
   "outputs": [
    {
     "data": {
      "text/plain": [
       "{'n_neighbors': 1}"
      ]
     },
     "execution_count": 208,
     "metadata": {},
     "output_type": "execute_result"
    }
   ],
   "source": [
    "#best params \n",
    "knn_grid.best_params_"
   ]
  },
  {
   "cell_type": "markdown",
   "id": "49012100-ef07-4e0d-99ab-b1663be2d997",
   "metadata": {},
   "source": [
    "When doing a grid search with n=1,2,3,4,5 parameters, we find that n=1 has the highest mean test score with 94.4% and n=5 has the lowest score with 88.65%. However, when we use the standard deviation test score, we find that n=5 has the lowest and thus best with 0.002574 and n=1 has the highest standard deviation. While one can simply point out that we should use n=1 as the best parameter for our model, a lower n neighbors in KNN generally can lead to overfitting because the model is more likely to choose the closest neighbors when n is lower. Thus, for our model purposes we will use n=5 as the best parameter and conclude that our knn classifier accurately predicts with an average score of 88.6%. We see that this is still better than our logistic regression model (71.7%) but it is slightly behind the knn model (90.4%) without cross validation (into 5 splits). Because cross validation technique helps to evaluate the performance of the model, we will use this score of 88.6% as our best model so far."
   ]
  },
  {
   "cell_type": "code",
   "execution_count": 209,
   "id": "34fa217a-68a9-46ab-9c4b-57d0227a3d8d",
   "metadata": {},
   "outputs": [],
   "source": [
    "#decision tree classifier (basic)\n",
    "from sklearn.tree import DecisionTreeClassifier\n",
    "\n"
   ]
  },
  {
   "cell_type": "code",
   "execution_count": 84,
   "id": "b9c64e34-a838-454a-b203-71291c32fc0a",
   "metadata": {},
   "outputs": [],
   "source": [
    "tree_pipe = Pipeline([('preprocess', encoder),\n",
    "                 ('model', DecisionTreeClassifier())])"
   ]
  },
  {
   "cell_type": "code",
   "execution_count": 85,
   "id": "3b914e3b-33be-4718-9f67-10f09982cfee",
   "metadata": {},
   "outputs": [
    {
     "data": {
      "text/plain": [
       "Pipeline(steps=[('preprocess',\n",
       "                 ColumnTransformer(remainder=StandardScaler(),\n",
       "                                   transformers=[('onehotencoder',\n",
       "                                                  OneHotEncoder(drop='first',\n",
       "                                                                handle_unknown='ignore',\n",
       "                                                                sparse=False),\n",
       "                                                  ['market', 'country_code',\n",
       "                                                   'founded_year'])])),\n",
       "                ('model', DecisionTreeClassifier())])"
      ]
     },
     "execution_count": 85,
     "metadata": {},
     "output_type": "execute_result"
    }
   ],
   "source": [
    "tree_pipe.fit(X_train, y_train)"
   ]
  },
  {
   "cell_type": "code",
   "execution_count": 86,
   "id": "adbb91f2-cbc2-4196-83b6-d8fac2f86cc6",
   "metadata": {},
   "outputs": [
    {
     "data": {
      "text/plain": [
       "0.9919183326244151"
      ]
     },
     "execution_count": 86,
     "metadata": {},
     "output_type": "execute_result"
    }
   ],
   "source": [
    "#evaluate model\n",
    "tree_pipe.score(X_train, y_train)"
   ]
  },
  {
   "cell_type": "code",
   "execution_count": 87,
   "id": "56c12f6b-bbc1-440a-a19b-28d08f38ae81",
   "metadata": {},
   "outputs": [
    {
     "name": "stderr",
     "output_type": "stream",
     "text": [
      "C:\\Users\\user\\anaconda3\\lib\\site-packages\\sklearn\\preprocessing\\_encoders.py:170: UserWarning: Found unknown categories in columns [0, 1, 2] during transform. These unknown categories will be encoded as all zeros\n",
      "  warnings.warn(\n"
     ]
    },
    {
     "data": {
      "text/plain": [
       "0.9517672578792905"
      ]
     },
     "execution_count": 87,
     "metadata": {},
     "output_type": "execute_result"
    }
   ],
   "source": [
    "tree_pipe.score(X_test, y_test)"
   ]
  },
  {
   "cell_type": "markdown",
   "id": "f55feca8-e63e-4bd5-8570-e7c2020e51c4",
   "metadata": {},
   "source": [
    "We see that when using a decision tree classifier without initializing any parameters, it gives a training score of 99% with a testing score of 95.17%. The model produces an overfitting model as it tries to fit the training data until it is able to classify them accordingly. To mitigate the risk of overfitting, we will use several hyperparameters to reduce overfitting then explore other techniques such as random forest. "
   ]
  },
  {
   "cell_type": "code",
   "execution_count": 217,
   "id": "5c3fd51a-1f9e-4cfa-9a2d-ed9aa4bdf4fb",
   "metadata": {},
   "outputs": [],
   "source": [
    "#hyperparameter overfit using max_depth, min_samples_split, min_samples_leaf\n",
    "\n",
    "#instantiate model with:\n",
    "# - a maximum depth of 5\n",
    "# at least 7 samples required in order to split an internal node\n",
    "# at least 3 samples in each leaf node\n",
    "# random state of = 42\n",
    "dt = DecisionTreeClassifier(max_depth = 25, \n",
    "                            min_samples_split = 5,\n",
    "                            min_samples_leaf = 3,\n",
    "                            random_state = 42)"
   ]
  },
  {
   "cell_type": "code",
   "execution_count": 218,
   "id": "397ea0fe-2976-4323-833b-20c2d92b7998",
   "metadata": {},
   "outputs": [
    {
     "data": {
      "text/plain": [
       "DecisionTreeClassifier(max_depth=25, min_samples_leaf=3, min_samples_split=5,\n",
       "                       random_state=42)"
      ]
     },
     "execution_count": 218,
     "metadata": {},
     "output_type": "execute_result"
    }
   ],
   "source": [
    "dt.fit(X_train_encoded, y_train)"
   ]
  },
  {
   "cell_type": "code",
   "execution_count": 219,
   "id": "50ebf1ac-8883-40ab-97df-87b3f6d0473f",
   "metadata": {},
   "outputs": [
    {
     "name": "stdout",
     "output_type": "stream",
     "text": [
      "Score on training set:0.8925350914504466\n",
      "Score on testing set:0.8724639530432563\n"
     ]
    }
   ],
   "source": [
    "#evaluate model\n",
    "print(f'Score on training set:{dt.score(X_train_encoded,y_train)}')\n",
    "print(f'Score on testing set:{dt.score(X_test_encoded, y_test)}')"
   ]
  },
  {
   "cell_type": "code",
   "execution_count": 216,
   "id": "1031a96f-bded-4f87-945d-fb132be15969",
   "metadata": {},
   "outputs": [
    {
     "data": {
      "text/plain": [
       "25"
      ]
     },
     "execution_count": 216,
     "metadata": {},
     "output_type": "execute_result"
    }
   ],
   "source": [
    "len(num_cols)+len(cat_cols)"
   ]
  },
  {
   "cell_type": "markdown",
   "id": "f6987333-7af3-4da4-aeea-e4a325a0cc38",
   "metadata": {},
   "source": [
    "In a scenario where we set the max depth of the tree to 25, min samples split to 7 and min sample leaf to 3, we see that our testing score is 87.2%. Here we set the max depth to 25 as there are a total number of 25 features (sum of cat_col and num_col) and concluded that the model is better if it can produce a more accurate score within 25 questions. We used min sample leaf of 3 as the default was 1 and thus we wanted to constrain the tree by using a higher leaf to reduce overfitting. Also, we use min sample split of 5 as the default value is 2. We find that this model is better than the logistic regression (71.7%) model and slightly behind the KNN classifier model (88.6%)."
   ]
  },
  {
   "cell_type": "code",
   "execution_count": 220,
   "id": "953efd7e-72bb-44e4-bdb6-2eba323247ee",
   "metadata": {},
   "outputs": [],
   "source": [
    "#Let's GridSearch to try to find the best tree \n",
    "#almost all similar \n",
    "\n",
    "params = {'max_depth':[5,10,15,20,25],\n",
    "          'min_samples_split':[3,5,10],\n",
    "          'min_samples_leaf': [2,3,4,5]}\n",
    "gs = GridSearchCV(dt, param_grid=params)\n"
   ]
  },
  {
   "cell_type": "code",
   "execution_count": 221,
   "id": "f7aa99a8-382a-42ba-9720-69ef31734ee1",
   "metadata": {},
   "outputs": [
    {
     "data": {
      "text/plain": [
       "GridSearchCV(estimator=DecisionTreeClassifier(max_depth=25, min_samples_leaf=3,\n",
       "                                              min_samples_split=5,\n",
       "                                              random_state=42),\n",
       "             param_grid={'max_depth': [5, 10, 15, 20, 25],\n",
       "                         'min_samples_leaf': [2, 3, 4, 5],\n",
       "                         'min_samples_split': [3, 5, 10]})"
      ]
     },
     "execution_count": 221,
     "metadata": {},
     "output_type": "execute_result"
    }
   ],
   "source": [
    "gs.fit(X_train_encoded,y_train)"
   ]
  },
  {
   "cell_type": "code",
   "execution_count": 222,
   "id": "731d7e5c-b82f-4d8e-8450-30ce1119905d",
   "metadata": {},
   "outputs": [
    {
     "name": "stdout",
     "output_type": "stream",
     "text": [
      "train score 0.8925350914504466\n",
      "test score 0.8724639530432563\n"
     ]
    }
   ],
   "source": [
    "#best decision tree\n",
    "gs.best_estimator_\n",
    "#what were the best parameters of our decision tree \n",
    "gs.best_params_\n",
    "#what was the cross-validated score of the above decision tree \n",
    "gs.best_score_\n",
    "#Evaluate model\n",
    "print('train score', gs.score(X_train_encoded, y_train))\n",
    "print('test score', gs.score(X_test_encoded, y_test))"
   ]
  },
  {
   "cell_type": "code",
   "execution_count": 223,
   "id": "01ce2ddd-51a1-4083-ae64-8bffec96a6e4",
   "metadata": {},
   "outputs": [
    {
     "data": {
      "text/plain": [
       "{'max_depth': 25, 'min_samples_leaf': 3, 'min_samples_split': 3}"
      ]
     },
     "execution_count": 223,
     "metadata": {},
     "output_type": "execute_result"
    }
   ],
   "source": [
    "gs.best_params_"
   ]
  },
  {
   "cell_type": "markdown",
   "id": "4abf17fb-4fea-4dcc-8712-482a29c04e51",
   "metadata": {},
   "source": [
    "After doing a grid search, we find that the hyperparameters: max_depth:25, min_samples_leaf: 3, min_samples_split:3 produces the highest accuracy with a test score of 87.24% which was no different from our previous decision tree model with max_depth = 25, min_samples_leaf = 3, min_samples_split = 5. Again, we find that this model is better than the logistic model but slightly behind the KNN model. Next, we use the voting & random forest ensemble algorithms that combines the predictions of multiple individual models to make a final prediction. "
   ]
  },
  {
   "cell_type": "code",
   "execution_count": 244,
   "id": "0c46c4bf-3475-4fec-b6c5-76eafaa2c6a1",
   "metadata": {},
   "outputs": [],
   "source": [
    "from sklearn.ensemble import VotingClassifier\n",
    "#ensemble (use multiple models knn, logistic, and decision trees)\n",
    "\n",
    "voter = VotingClassifier([('knn', KNeighborsClassifier(n_neighbors=5)),\n",
    "                          ('logistic', LogisticRegression(max_iter=500)),\n",
    "                          ('tree', DecisionTreeClassifier(max_depth = 25, min_samples_split = 3,min_samples_leaf = 3,random_state = 42))])\n",
    "\n",
    "vote_pipe = Pipeline([('preprocess', encoder),\n",
    "                      ('model', voter)])"
   ]
  },
  {
   "cell_type": "code",
   "execution_count": 245,
   "id": "aaa19a4a-75fd-4623-af7a-cfa6ccb1c5cb",
   "metadata": {},
   "outputs": [
    {
     "data": {
      "text/plain": [
       "Pipeline(steps=[('preprocess',\n",
       "                 ColumnTransformer(remainder=StandardScaler(),\n",
       "                                   transformers=[('onehotencoder',\n",
       "                                                  OneHotEncoder(drop='first',\n",
       "                                                                handle_unknown='ignore',\n",
       "                                                                sparse=False),\n",
       "                                                  ['market', 'country_code',\n",
       "                                                   'founded_year'])])),\n",
       "                ('model',\n",
       "                 VotingClassifier(estimators=[('knn', KNeighborsClassifier()),\n",
       "                                              ('logistic',\n",
       "                                               LogisticRegression(max_iter=500)),\n",
       "                                              ('tree',\n",
       "                                               DecisionTreeClassifier(max_depth=25,\n",
       "                                                                      min_samples_leaf=3,\n",
       "                                                                      min_samples_split=3,\n",
       "                                                                      random_state=42))]))])"
      ]
     },
     "execution_count": 245,
     "metadata": {},
     "output_type": "execute_result"
    }
   ],
   "source": [
    "#fit it\n",
    "vote_pipe.fit(X_train, y_train)"
   ]
  },
  {
   "cell_type": "code",
   "execution_count": 246,
   "id": "77b78bbf-2055-4c80-8ce6-bb503d5d15fb",
   "metadata": {},
   "outputs": [
    {
     "data": {
      "text/plain": [
       "0.9110378562313909"
      ]
     },
     "execution_count": 246,
     "metadata": {},
     "output_type": "execute_result"
    }
   ],
   "source": [
    "vote_pipe.score(X_train,y_train)"
   ]
  },
  {
   "cell_type": "code",
   "execution_count": 247,
   "id": "1085e879-1d83-4158-8b01-97f1f4a5ba20",
   "metadata": {},
   "outputs": [
    {
     "name": "stderr",
     "output_type": "stream",
     "text": [
      "C:\\Users\\user\\anaconda3\\lib\\site-packages\\sklearn\\preprocessing\\_encoders.py:170: UserWarning: Found unknown categories in columns [0, 1, 2] during transform. These unknown categories will be encoded as all zeros\n",
      "  warnings.warn(\n"
     ]
    },
    {
     "data": {
      "text/plain": [
       "0.890327931606482"
      ]
     },
     "execution_count": 247,
     "metadata": {},
     "output_type": "execute_result"
    }
   ],
   "source": [
    "vote_pipe.score(X_test,y_test)"
   ]
  },
  {
   "cell_type": "markdown",
   "id": "4d9aa3a2-3b8a-4bea-9490-a8b775c4238b",
   "metadata": {},
   "source": [
    "When we use a voting classifier ensemble method to combine the predictions of our previous models KNN, Logistic, Decision Tree with the best hyperparameters we found earlier we get an accuracy of 89% on our testing score. The model improved slightly than the KNN model with a score of 88.6%. We see that using an ensemble method improves the performance. "
   ]
  },
  {
   "cell_type": "code",
   "execution_count": 253,
   "id": "7ab414b7-1252-415a-811a-15a8da4ccadc",
   "metadata": {},
   "outputs": [],
   "source": [
    "#import\n",
    "from sklearn.ensemble import RandomForestClassifier"
   ]
  },
  {
   "cell_type": "code",
   "execution_count": 254,
   "id": "dfa5567b-0ec1-41f5-8201-6095268d9bcc",
   "metadata": {},
   "outputs": [],
   "source": [
    "#pipeline\n",
    "forest_pipe = Pipeline([('preprocess', encoder),\n",
    "                        ('model', RandomForestClassifier(max_depth = 25, min_samples_split = 3,min_samples_leaf = 3,random_state = 42))])"
   ]
  },
  {
   "cell_type": "code",
   "execution_count": 255,
   "id": "e985e76d-0e40-4801-b974-59aaad0cbdf4",
   "metadata": {},
   "outputs": [
    {
     "data": {
      "text/plain": [
       "Pipeline(steps=[('preprocess',\n",
       "                 ColumnTransformer(remainder=StandardScaler(),\n",
       "                                   transformers=[('onehotencoder',\n",
       "                                                  OneHotEncoder(drop='first',\n",
       "                                                                handle_unknown='ignore',\n",
       "                                                                sparse=False),\n",
       "                                                  ['market', 'country_code',\n",
       "                                                   'founded_year'])])),\n",
       "                ('model',\n",
       "                 RandomForestClassifier(max_depth=25, min_samples_leaf=3,\n",
       "                                        min_samples_split=3,\n",
       "                                        random_state=42))])"
      ]
     },
     "execution_count": 255,
     "metadata": {},
     "output_type": "execute_result"
    }
   ],
   "source": [
    "#fit\n",
    "forest_pipe.fit(X_train, y_train)"
   ]
  },
  {
   "cell_type": "code",
   "execution_count": 256,
   "id": "2bffa537-084b-427e-9b7e-c149a176b338",
   "metadata": {},
   "outputs": [
    {
     "data": {
      "text/plain": [
       "0.7868353891960868"
      ]
     },
     "execution_count": 256,
     "metadata": {},
     "output_type": "execute_result"
    }
   ],
   "source": [
    "#train score\n",
    "forest_pipe.score(X_train, y_train)"
   ]
  },
  {
   "cell_type": "code",
   "execution_count": 257,
   "id": "badb3936-22d7-4fcf-ae6e-df32677b63c7",
   "metadata": {},
   "outputs": [
    {
     "name": "stderr",
     "output_type": "stream",
     "text": [
      "C:\\Users\\user\\anaconda3\\lib\\site-packages\\sklearn\\preprocessing\\_encoders.py:170: UserWarning: Found unknown categories in columns [0, 1, 2] during transform. These unknown categories will be encoded as all zeros\n",
      "  warnings.warn(\n"
     ]
    },
    {
     "data": {
      "text/plain": [
       "0.776381268342478"
      ]
     },
     "execution_count": 257,
     "metadata": {},
     "output_type": "execute_result"
    }
   ],
   "source": [
    "#train test\n",
    "forest_pipe.score(X_test, y_test)"
   ]
  },
  {
   "cell_type": "markdown",
   "id": "c148cd7b-acc7-423e-9799-b1c9873f1a67",
   "metadata": {},
   "source": [
    "We see here that a random forest model has a 77.64% accuracy on the testing score. Here, we see that the model does worse than a normal decision tree with the same hyperparameters (87.24%). In further observations and next steps, we will discuss about ways to reconcile this issue. Just with what we have we see that the random forest model does better than the logistic model (71.4%) but is behind KNN, decision tree, voting classifier models. "
   ]
  },
  {
   "cell_type": "code",
   "execution_count": 269,
   "id": "4dd2a944-63eb-4a3f-a211-6ff16d04a786",
   "metadata": {},
   "outputs": [
    {
     "data": {
      "text/html": [
       "<div>\n",
       "<style scoped>\n",
       "    .dataframe tbody tr th:only-of-type {\n",
       "        vertical-align: middle;\n",
       "    }\n",
       "\n",
       "    .dataframe tbody tr th {\n",
       "        vertical-align: top;\n",
       "    }\n",
       "\n",
       "    .dataframe thead th {\n",
       "        text-align: right;\n",
       "    }\n",
       "</style>\n",
       "<table border=\"1\" class=\"dataframe\">\n",
       "  <thead>\n",
       "    <tr style=\"text-align: right;\">\n",
       "      <th></th>\n",
       "      <th>features</th>\n",
       "      <th>importance</th>\n",
       "    </tr>\n",
       "  </thead>\n",
       "  <tbody>\n",
       "    <tr>\n",
       "      <th>884</th>\n",
       "      <td>onehotencoder__founded_year_2013</td>\n",
       "      <td>0.092636</td>\n",
       "    </tr>\n",
       "    <tr>\n",
       "      <th>886</th>\n",
       "      <td>remainder__total_funding</td>\n",
       "      <td>0.083293</td>\n",
       "    </tr>\n",
       "    <tr>\n",
       "      <th>888</th>\n",
       "      <td>remainder__seed</td>\n",
       "      <td>0.057118</td>\n",
       "    </tr>\n",
       "    <tr>\n",
       "      <th>883</th>\n",
       "      <td>onehotencoder__founded_year_2012</td>\n",
       "      <td>0.056712</td>\n",
       "    </tr>\n",
       "    <tr>\n",
       "      <th>887</th>\n",
       "      <td>remainder__funding_rounds</td>\n",
       "      <td>0.051655</td>\n",
       "    </tr>\n",
       "    <tr>\n",
       "      <th>...</th>\n",
       "      <td>...</td>\n",
       "      <td>...</td>\n",
       "    </tr>\n",
       "    <tr>\n",
       "      <th>369</th>\n",
       "      <td>onehotencoder__market_ M2M</td>\n",
       "      <td>0.000000</td>\n",
       "    </tr>\n",
       "    <tr>\n",
       "      <th>371</th>\n",
       "      <td>onehotencoder__market_ Mac</td>\n",
       "      <td>0.000000</td>\n",
       "    </tr>\n",
       "    <tr>\n",
       "      <th>378</th>\n",
       "      <td>onehotencoder__market_ Mass Customization</td>\n",
       "      <td>0.000000</td>\n",
       "    </tr>\n",
       "    <tr>\n",
       "      <th>380</th>\n",
       "      <td>onehotencoder__market_ Material Science</td>\n",
       "      <td>0.000000</td>\n",
       "    </tr>\n",
       "    <tr>\n",
       "      <th>907</th>\n",
       "      <td>remainder__round_H</td>\n",
       "      <td>0.000000</td>\n",
       "    </tr>\n",
       "  </tbody>\n",
       "</table>\n",
       "<p>908 rows × 2 columns</p>\n",
       "</div>"
      ],
      "text/plain": [
       "                                       features  importance\n",
       "884            onehotencoder__founded_year_2013    0.092636\n",
       "886                    remainder__total_funding    0.083293\n",
       "888                             remainder__seed    0.057118\n",
       "883            onehotencoder__founded_year_2012    0.056712\n",
       "887                   remainder__funding_rounds    0.051655\n",
       "..                                          ...         ...\n",
       "369                 onehotencoder__market_ M2M     0.000000\n",
       "371                 onehotencoder__market_ Mac     0.000000\n",
       "378  onehotencoder__market_ Mass Customization     0.000000\n",
       "380    onehotencoder__market_ Material Science     0.000000\n",
       "907                          remainder__round_H    0.000000\n",
       "\n",
       "[908 rows x 2 columns]"
      ]
     },
     "execution_count": 269,
     "metadata": {},
     "output_type": "execute_result"
    }
   ],
   "source": [
    "pd.DataFrame({'features':forest_pipe.named_steps['preprocess'].get_feature_names_out(),\n",
    "              'importance':forest_pipe.named_steps['model'].feature_importances_}).sort_values(by = 'importance', ascending = False)"
   ]
  },
  {
   "cell_type": "markdown",
   "id": "a9a0a958-52eb-46d7-bb84-2e79ad00b27d",
   "metadata": {},
   "source": [
    "A further look into which features are the most important in driving the prediction of success show that the company was founded at 2013, higher total funding, higher seed funding, founded in 2012, had greater funding rounds were features that contributed to classifying a success of company. Finally, we use Xgboost to improve the performance of our decision tree models."
   ]
  },
  {
   "cell_type": "code",
   "execution_count": null,
   "id": "c498ce3e-a7a5-419e-b9cd-d8e6fcf91de5",
   "metadata": {},
   "outputs": [],
   "source": [
    "import xgboost as xgb\n"
   ]
  },
  {
   "cell_type": "code",
   "execution_count": null,
   "id": "85734895-eb8f-43c8-8bfe-393027b0d7d7",
   "metadata": {},
   "outputs": [],
   "source": [
    "#instantiate classifier \n",
    "xboost = xgb.XGBClassifier(n_estimators = 10, max_depth = 25, min_samples_split = 3,min_samples_leaf = 3,random_state = 42)"
   ]
  },
  {
   "cell_type": "code",
   "execution_count": null,
   "id": "3779ce14-7bcf-4bfd-ad81-c0b8a61f6da9",
   "metadata": {},
   "outputs": [],
   "source": [
    "boost_pipe = Pipeline([('encoder', encoder),\n",
    "                       ('model', xboost)])"
   ]
  },
  {
   "cell_type": "code",
   "execution_count": null,
   "id": "d39b9bbb-eade-440c-a71e-893b8c2af089",
   "metadata": {},
   "outputs": [],
   "source": [
    "#score\n",
    "boost_pipe.fit(X_train, y_train)"
   ]
  },
  {
   "cell_type": "code",
   "execution_count": 285,
   "id": "e20f0991-425a-4cd4-a62b-0deeb8852d8f",
   "metadata": {},
   "outputs": [
    {
     "data": {
      "text/plain": [
       "0.9554444917056572"
      ]
     },
     "execution_count": 285,
     "metadata": {},
     "output_type": "execute_result"
    }
   ],
   "source": [
    "boost_pipe.score(X_train,y_train)"
   ]
  },
  {
   "cell_type": "code",
   "execution_count": 284,
   "id": "868fc5a9-671d-4eef-9fe9-27593416f7ad",
   "metadata": {},
   "outputs": [
    {
     "name": "stderr",
     "output_type": "stream",
     "text": [
      "C:\\Users\\user\\anaconda3\\lib\\site-packages\\sklearn\\preprocessing\\_encoders.py:170: UserWarning: Found unknown categories in columns [0, 1, 2] during transform. These unknown categories will be encoded as all zeros\n",
      "  warnings.warn(\n"
     ]
    },
    {
     "data": {
      "text/plain": [
       "0.9346688783973459"
      ]
     },
     "execution_count": 284,
     "metadata": {},
     "output_type": "execute_result"
    }
   ],
   "source": [
    "boost_pipe.score(X_test,y_test)"
   ]
  },
  {
   "cell_type": "markdown",
   "id": "b51b127f-0aa2-426e-8ac7-cba4240db557",
   "metadata": {},
   "source": [
    "In our final model, our XGboost had a score of 93.46% in our testing data which provided the highest accuracy result when compared to previous models such as KNN, logistic, decision trees, and other ensemble models. "
   ]
  },
  {
   "cell_type": "markdown",
   "id": "a8491fdf-1a96-40db-a841-55e941a30b75",
   "metadata": {},
   "source": [
    "### Summary of Findings \n"
   ]
  },
  {
   "cell_type": "markdown",
   "id": "3734fd7e-8626-47e9-8044-5629fcdd80fc",
   "metadata": {},
   "source": [
    "In conclusion, in our study we used various methods of binary classification models such as KNN, Logistic, Decision Trees and ensemble models to determine which model has the best accuracy of predicting the outcome of a company's survival or failure.\n",
    "The final model we would choose among these would be the XGBoost algorithm as it had a score of 93.46% with the following models in ranking order: Voting (89%), KNN (Cross validation 88.6%), Decision Tree (87.24%), Random Forest (77.24%), Logistic (71.7%). Overall, all our models beat our baseline of 50% accuracy.\n",
    "\n",
    "Some important takeaways from the results are that these features: the company was founded at 2013, higher total funding, higher seed funding, founded in 2012, had greater funding rounds are key to success of company. We can see that higher funding, more funding rounds, higher seed funding are important key features that ensure the survival of a company as liquidity is a key factor as startups burn cash. \n",
    "\n",
    "Overall, our XGBoost model we came up can help with determining the likelihood of a startup's survival and provide as an extra resource in determining whether to invest in the company or not. However, one has to take note that simpy surviving is not the main goal as generating returns is key to the eyes of investors. Thus, it would have been better if we would also have data on the revenue and expenses the company was able to generate as well. \n"
   ]
  },
  {
   "cell_type": "markdown",
   "id": "701563dd-9ca8-472a-a393-dda5f6858875",
   "metadata": {},
   "source": [
    "### Next Steps"
   ]
  },
  {
   "cell_type": "markdown",
   "id": "5825e070-c172-4a25-a07e-aa7585c0a2df",
   "metadata": {},
   "source": [
    "Some things to that could be done to improve the model for the future would be to resolve the issue that a random forest model did worse than a normal decision tree with the same hyperparameters. The random forest model might be overfitting the data or the optimal hyperparameters for the random forest model might differ from the decision tree grid search results we used. Another thing is that in our analysis, we used the oversampling method to balance our dataset as we had a very skewed binary result. Creating addtional copies of the minority class for our dataset may lead to overfitting so maybe we could try out other sampling techniques to balance the dataset such as undersampling or SMOTE. Finally, we know that around 90% of startups fail and our dataset had an unbalanced proportion as there were more \"successful companies\". Perhaps, a more updated dataset that had a large enough unique data points of failed companies would improve our model.\n"
   ]
  },
  {
   "cell_type": "code",
   "execution_count": null,
   "id": "80bec80b-46b0-4aff-a474-f0e2e39eda01",
   "metadata": {},
   "outputs": [],
   "source": []
  }
 ],
 "metadata": {
  "kernelspec": {
   "display_name": "Python 3 (ipykernel)",
   "language": "python",
   "name": "python3"
  },
  "language_info": {
   "codemirror_mode": {
    "name": "ipython",
    "version": 3
   },
   "file_extension": ".py",
   "mimetype": "text/x-python",
   "name": "python",
   "nbconvert_exporter": "python",
   "pygments_lexer": "ipython3",
   "version": "3.9.12"
  }
 },
 "nbformat": 4,
 "nbformat_minor": 5
}
